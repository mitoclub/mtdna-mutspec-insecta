{
 "cells": [
  {
   "cell_type": "code",
   "execution_count": null,
   "metadata": {},
   "outputs": [],
   "source": [
    "#there's an API, so fuck scrapper for now\n",
    "import wikipediaapi\n",
    "import pandas as pd\n",
    "import numpy as np\n",
    "import re\n",
    "\n",
    "PATH_TO_META = '/home/gabs/Documents/lab/TermitesAndCockroaches/mtdna-mutspec-insecta/data/NemuPipeline/AllInsects/midori_all_insects_mutspec/msMetaData.tsv'\n",
    "PATH_TO_METAWINGS = '/home/gabs/Documents/lab/TermitesAndCockroaches/mtdna-mutspec-insecta/data/NemuPipeline/AllInsects/midori_all_insects_mutspec/meta_wiki_wings.tsv'"
   ]
  },
  {
   "cell_type": "code",
   "execution_count": null,
   "metadata": {},
   "outputs": [],
   "source": [
    "\n",
    "\n",
    "meta_df = pd.read_csv(PATH_TO_META, sep='\\t')\n",
    "meta_df['Wings'] = np.nan\n",
    "\n",
    "#insects = ['Periplaneta_americana', 'Papilio_helenus', 'afslalf', 'Heart and dart'] # test data\n",
    "insects = meta_df['Species'].to_list()\n",
    "\n",
    "wiki = wikipediaapi.Wikipedia('insecta_wings_db_bot (tr4sh.cannot@gmail.com)', 'en')\n",
    "for sp in insects:\n",
    "    try:\n",
    "        page = wiki.page(sp)\n",
    "        if page.exists():\n",
    "            #saving whole texts\n",
    "            with open(f'/home/gabs/Documents/lab/TermitesAndCockroaches/mtdna-mutspec-insecta/scripts/WikipediaScrapper/species_texts/{sp}.txt', 'w') as fout:\n",
    "                fout.write(page.text)\n",
    "\n",
    "            '''doesn't really work correctly, check wiki_analysis.ipynb for better wordlist'''\n",
    "            #if re.search('wing$|wings|wing | wing', page.text) and len(page.title.split(' ')) > 1 and 'list' not in page.title.lower():\n",
    "            #    print(f'{sp} - {page.title}')\n",
    "            #    with open('/home/gabs/Documents/lab/TermitesAndCockroaches/mtdna-mutspec-insecta/scripts/WikipediaScrapper/scrapper.log', 'a') as log:\n",
    "            #        log.write(f'{sp} - {page.title}\\n')\n",
    "            #    meta_df.loc[meta_df['Species'] == sp, 'Wings'] = '+'\n",
    "            #else:\n",
    "            #    meta_df.loc[meta_df['Species'] == sp, 'Wings'] = '-'\n",
    "    except:\n",
    "        with open('/home/gabs/Documents/lab/TermitesAndCockroaches/mtdna-mutspec-insecta/scripts/WikipediaScrapper/scrapper.log', 'a') as log:\n",
    "                    log.write(f'{sp} - {page.title} - CONNECTION ERROR\\n')\n",
    "\n",
    "\n",
    "#meta_df.to_csv(PATH_TO_METAWINGS, sep='\\t', index=False)"
   ]
  }
 ],
 "metadata": {
  "language_info": {
   "name": "python"
  },
  "orig_nbformat": 4
 },
 "nbformat": 4,
 "nbformat_minor": 2
}
