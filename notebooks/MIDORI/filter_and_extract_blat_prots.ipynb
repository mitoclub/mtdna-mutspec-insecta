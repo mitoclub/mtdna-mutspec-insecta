{
 "cells": [
  {
   "cell_type": "code",
   "execution_count": 61,
   "metadata": {},
   "outputs": [],
   "source": [
    "import glob, os, sys, re, random\n",
    "from collections import defaultdict, Counter\n",
    "\n",
    "import numpy as np\n",
    "import pandas as pd\n",
    "import matplotlib.pyplot as plt\n",
    "import seaborn as sns\n",
    "import ete3\n",
    "from ete3 import PhyloTree\n",
    "from Bio import SeqIO\n",
    "import tqdm"
   ]
  },
  {
   "cell_type": "code",
   "execution_count": 62,
   "metadata": {},
   "outputs": [],
   "source": [
    "def collect_seqs(pattern: str, label: str, genes: list, sp=False, aa=False):\n",
    "    directory = \"/home/gabs/Documents/lab/TermitesAndCockroaches/MIDORI/\"\n",
    "    file = \"MIDORI2_{}_NUC_SP_GB261_{}_BLAST.fasta\" if sp else \"MIDORI2_{}_NUC_GB261_{}_BLAST.fasta\"\n",
    "    if aa:\n",
    "        file = \"MIDORI2_{}_AA_SP_GB261_{}_BLAST.fasta\" if sp else \"MIDORI2_{}_AA_GB261_{}_BLAST.fasta\"\n",
    "    path_to_fasta = directory + file\n",
    "    seqs = defaultdict(list)\n",
    "    for gene in tqdm.tqdm(genes):\n",
    "        inp = path_to_fasta.format(label, gene)\n",
    "        for rec in SeqIO.parse(inp, \"fasta\"):\n",
    "            header = rec.description\n",
    "            \n",
    "            if pattern not in header:\n",
    "                continue\n",
    "\n",
    "            raw_acc, taxa = header.split(\"###\")\n",
    "            acc, place = re.match(\"(\\w+\\.\\d)\\.(.+)\", raw_acc).groups()\n",
    "            taxa = taxa.removeprefix(\"root_1;Eukaryota_2759;\")\n",
    "            species = \" \".join(taxa.split(\";\")[-1].split(\"_\")[:-1])\n",
    "            rec.id = acc\n",
    "            rec.description = f\"{species} {place} ###{taxa}\"\n",
    "            seqs[gene + \"__\" + species.replace(\" \", \"_\")].append(rec)\n",
    "    return seqs\n",
    "\n",
    "\n",
    "def filter_seqs(recs: list, var_gene_len=0.2, Nshare=0.2):\n",
    "    assert isinstance(recs, list)\n",
    "    seq_len_median = np.median([len(x) for x in recs])\n",
    "    min_seq_len = seq_len_median * (1 - var_gene_len)\n",
    "    max_seq_len = seq_len_median * (1 + var_gene_len)\n",
    "\n",
    "    recs_filtered = []\n",
    "    for rec in recs:\n",
    "        acgt_share = sum(rec.seq.count(x) for x in \"ACGT\") / len(rec)\n",
    "        if min_seq_len < len(rec) < max_seq_len and 1 - acgt_share < Nshare:\n",
    "            recs_filtered.append(rec)\n",
    "\n",
    "    return recs_filtered\n",
    "\n",
    "\n",
    "def filter_seqs_dict(seqs, nseqs_min=10, var_gene_len=0.2, Nshare=0.2):\n",
    "    assert isinstance(seqs, dict)\n",
    "    seqs_filtered = dict()\n",
    "    for gene_species, recs in seqs.items():\n",
    "        if len(recs) < nseqs_min:\n",
    "            continue\n",
    "\n",
    "        recs_filtered = filter_seqs(recs, var_gene_len, Nshare)\n",
    "        if len(recs_filtered) >= nseqs_min:\n",
    "            seqs_filtered[gene_species] = recs_filtered\n",
    "    \n",
    "    return seqs_filtered"
   ]
  },
  {
   "cell_type": "code",
   "execution_count": 63,
   "metadata": {},
   "outputs": [
    {
     "name": "stderr",
     "output_type": "stream",
     "text": [
      "100%|██████████| 1/1 [00:08<00:00,  8.05s/it]\n"
     ]
    },
    {
     "data": {
      "text/plain": [
       "1026"
      ]
     },
     "execution_count": 63,
     "metadata": {},
     "output_type": "execute_result"
    }
   ],
   "source": [
    "genes = ['A6', 'A8', 'CO1', 'CO2', 'CO3', 'Cytb', 'ND1', 'ND2', 'ND3', 'ND4', 'ND4L', 'ND5', 'ND6']\n",
    "genes = ['CO1']\n",
    "order = \"Blattodea\"\n",
    "nucls_blat = collect_seqs(order, \"UNIQ\", genes)\n",
    "len(nucls_blat)"
   ]
  },
  {
   "cell_type": "code",
   "execution_count": 64,
   "metadata": {},
   "outputs": [
    {
     "name": "stdout",
     "output_type": "stream",
     "text": [
      "nseqs = 142, nspecies: 142\n",
      "\n",
      "CO1    142\n",
      "dtype: int64\n"
     ]
    }
   ],
   "source": [
    "nucls_blat_filtered = filter_seqs_dict(nucls_blat, nseqs_min=5)\n",
    "print(f\"nseqs = {len(nucls_blat_filtered)}, nspecies: {len(set([x.split('__')[1] for x in nucls_blat_filtered.keys()]))}\", end=\"\\n\\n\")\n",
    "print(pd.Series(Counter([x.split(\"__\")[0] for x in nucls_blat_filtered.keys()])))"
   ]
  },
  {
   "cell_type": "code",
   "execution_count": 65,
   "metadata": {},
   "outputs": [],
   "source": [
    "seq_lens = []\n",
    "for sp, recs in nucls_blat_filtered.items():\n",
    "    seq_len_median = np.median([len(x) for x in recs])\n",
    "    nucls_blat_filtered[sp].append(seq_len_median)\n",
    "    seq_lens.append(seq_len_median)"
   ]
  },
  {
   "cell_type": "code",
   "execution_count": 66,
   "metadata": {},
   "outputs": [
    {
     "data": {
      "image/png": "[encoded data removed]",
      "text/plain": [
       "<Figure size 640x480 with 1 Axes>"
      ]
     },
     "metadata": {},
     "output_type": "display_data"
    }
   ],
   "source": [
    "ax = sns.histplot(seq_lens)\n",
    "ax.set(xlabel='sequence length')\n",
    "plt.show()"
   ]
  },
  {
   "cell_type": "code",
   "execution_count": 67,
   "metadata": {},
   "outputs": [],
   "source": [
    "sp_to_remove = []\n",
    "for sp, recs in nucls_blat_filtered.items():\n",
    "    seq_len_median = recs[-1]\n",
    "    if seq_len_median < 600:\n",
    "        sp_to_remove.append(sp)"
   ]
  },
  {
   "cell_type": "code",
   "execution_count": 68,
   "metadata": {},
   "outputs": [],
   "source": [
    "for sp in sp_to_remove:\n",
    "    del nucls_blat_filtered[sp]"
   ]
  },
  {
   "cell_type": "code",
   "execution_count": 69,
   "metadata": {},
   "outputs": [
    {
     "data": {
      "text/plain": [
       "128"
      ]
     },
     "execution_count": 69,
     "metadata": {},
     "output_type": "execute_result"
    }
   ],
   "source": [
    "len(nucls_blat_filtered)\n"
   ]
  },
  {
   "cell_type": "code",
   "execution_count": 70,
   "metadata": {},
   "outputs": [],
   "source": [
    "seq_lens = []\n",
    "for sp, recs in nucls_blat_filtered.items():\n",
    "    seq_lens.append(recs[-1])"
   ]
  },
  {
   "cell_type": "code",
   "execution_count": 71,
   "metadata": {},
   "outputs": [
    {
     "data": {
      "image/png": "[encoded data removed]",
      "text/plain": [
       "<Figure size 640x480 with 1 Axes>"
      ]
     },
     "metadata": {},
     "output_type": "display_data"
    }
   ],
   "source": [
    "ax = sns.histplot(seq_lens)\n",
    "ax.set(xlabel='sequence length')\n",
    "plt.show()"
   ]
  },
  {
   "cell_type": "code",
   "execution_count": 72,
   "metadata": {},
   "outputs": [
    {
     "name": "stderr",
     "output_type": "stream",
     "text": [
      "100%|██████████| 1/1 [00:03<00:00,  3.48s/it]\n"
     ]
    }
   ],
   "source": [
    "prots_blat = collect_seqs(order, \"UNIQ\", genes, aa=True)"
   ]
  },
  {
   "cell_type": "code",
   "execution_count": 73,
   "metadata": {},
   "outputs": [],
   "source": [
    "prots_filtered = {}\n",
    "for sp, recs in prots_blat.items():\n",
    "    if sp in nucls_blat_filtered.keys():\n",
    "        seqs = [rec.seq for rec in recs]\n",
    "        lens = [len(seq) for seq in seqs]\n",
    "        median_len = np.median(lens)\n",
    "\n",
    "        close_to_median = min(seqs, key=lambda seq: abs(len(seq) - median_len))\n",
    "        taxonomy = prots_blat[sp][0].name.split(\"###root_1;Eukaryota_2759;Arthropoda_6656;\")[1]\n",
    "        prots_filtered[f'{sp.split(\"__\")[1]} --- {taxonomy}'] = close_to_median"
   ]
  },
  {
   "cell_type": "code",
   "execution_count": 76,
   "metadata": {},
   "outputs": [
    {
     "data": {
      "text/plain": [
       "{'Blaptica_dubia --- Insecta_50557;Blattodea_85823;Blaberidae_6979;Blaptica_132934;Blaptica_dubia_132935': Seq('KYKDIGTLYFIFGAWAGMVGTSLSMLIRVELNQPGSLIGDDQIYNVIVTAHAFI...HLE'),\n",
       " 'Hemiblabera_pabulator --- Insecta_50557;Blattodea_85823;Blaberidae_6979;Hemiblabera_2587879;Hemiblabera_pabulator_2587880': Seq('GAWAGMVGTSLSMLIRAELNQPGSLIGDDQIYNVIVTAHAFIMIFFMVMPILIG...GGG'),\n",
       " 'Diploptera_maculata --- Insecta_50557;Blattodea_85823;Blaberidae_6979;Diploptera_6983;Diploptera_maculata_2163988': Seq('TLYFIFGAWAGMVGTSLSMLIRAELNQPGSLIGDDQIYNVIVTAHAFVMIFFMV...HLF'),\n",
       " 'Diploptera_punctata --- Insecta_50557;Blattodea_85823;Blaberidae_6979;Diploptera_6983;Diploptera_punctata_6984': Seq('HPEVYILILPGFGMISHIICHESGKKEAFGNLGMIFAMLAIGLLGFVVWAHHMF...ELP'),\n",
       " 'Brephallus_fruhstorferi --- Insecta_50557;Blattodea_85823;Blaberidae_6979;Brephallus_2421530;Brephallus_fruhstorferi_2421531': Seq('TLYFIFGAWAGMVGTSLSMLIRAELNQPGSLIGDDQIYNVIVTAHAFIMIFFMV...HLF'),\n",
       " 'Opisthoplatia_orientalis --- Insecta_50557;Blattodea_85823;Blaberidae_6979;Opisthoplatia_406671;Opisthoplatia_orientalis_406672': Seq('TLYFIFGAWAGMVGTSLSMLIRAELNQPGSLIGDDQIYNVIVTAHAFVMIFFMV...HLF'),\n",
       " 'Rhabdoblatta_densimaculata --- Insecta_50557;Blattodea_85823;Blaberidae_6979;Rhabdoblatta_66618;Rhabdoblatta_densimaculata_2609391': Seq('TLYFIFGAWAGMVGTSLSMLIRAELNQPGSLIGDDQIYNVIVTAHAFIMIFFMV...HLF'),\n",
       " 'Rhabdoblatta_marginata --- Insecta_50557;Blattodea_85823;Blaberidae_6979;Rhabdoblatta_66618;Rhabdoblatta_marginata_1432379': Seq('TLYFIFGACAGMVGTSLSMLIRAELNQPGSLIGDDQIYNVIVTAHAFIMIFFMV...HLF'),\n",
       " 'Rhabdoblatta_melancholica --- Insecta_50557;Blattodea_85823;Blaberidae_6979;Rhabdoblatta_66618;Rhabdoblatta_melancholica_2609384': Seq('TLYFIFGAWAGMVGTSLSMLIRAELNQPGSLIGDDQIYNVIVTAHAFVMIFFMV...HLF'),\n",
       " 'Rhabdoblatta_nigrovittata --- Insecta_50557;Blattodea_85823;Blaberidae_6979;Rhabdoblatta_66618;Rhabdoblatta_nigrovittata_2609386': Seq('TLYFIFGAWAGMVGTSLSMLIRAELNQPGSLIGDDQIYNVIVTAHAFIMIFFMV...HLF'),\n",
       " 'Rhabdoblatta_sinuata --- Insecta_50557;Blattodea_85823;Blaberidae_6979;Rhabdoblatta_66618;Rhabdoblatta_sinuata_2609390': Seq('TLYFIFGAWAGMVGTSLSMFIRAELNQPGSLIGDDQIYNVIVTAHAFIMIFFMV...HLF'),\n",
       " 'Geoscapheus_dilatatus --- Insecta_50557;Blattodea_85823;Blaberidae_6979;Geoscapheus_112918;Geoscapheus_dilatatus_112939': Seq('MKRWLFSTNHKDIGTLYFIFGAWAGMIGTSLSMLIRAELNQPGSLIGDDQIYNV...KLF'),\n",
       " 'Nauphoeta_cinerea --- Insecta_50557;Blattodea_85823;Blaberidae_6979;Nauphoeta_6989;Nauphoeta_cinerea_6990': Seq('TLYFIFGAWAGMVGTSLSMLIRAELNQPGSLIGDDQIYNVIVTAHAFVMIFFMV...PEV'),\n",
       " 'Panchlora_nivea --- Insecta_50557;Blattodea_85823;Blaberidae_6979;Panchlora_36954;Panchlora_nivea_36955': Seq('TLYFIFGAWAGMVGTSLSMLIRAELNQPGSLIGDDQIYNVIVTAHAFVMIFFMA...HLF'),\n",
       " 'Panesthia_tryoni --- Insecta_50557;Blattodea_85823;Blaberidae_6979;Panesthia_62733;Panesthia_tryoni_112959': Seq('MKRWLFSTNHKDIGTLYFIFGAWAGMVGTSLSMLIRAELNQPGSLIGDDQIYNV...ITY'),\n",
       " 'Anaplectoidea_varia --- Insecta_50557;Blattodea_85823;Blattellidae_3046527;Anaplectoidea_1928787;Anaplectoidea_varia_1928789': Seq('TLYFIFGAWAGMVGTSLSMLIRAELNQPGSLIGDDQIYNVIVTAHAFIMIFFMV...HLF'),\n",
       " 'Blattella_bisignata --- Insecta_50557;Blattodea_85823;Blattellidae_3046527;Blattella_6972;Blattella_bisignata_415194': Seq('TLYFIFGAWSGMVGSSLSMLIRAELNQPGSLIGDDQIYNVIVTAHAFIMIFFMV...HLF'),\n",
       " 'Blattella_germanica --- Insecta_50557;Blattodea_85823;Blattellidae_3046527;Blattella_6972;Blattella_germanica_6973': Seq('FGAWSGMVGTSLSMLIRAELNQPGSLIGDDQIYNVIVTAHAFVMIFFMVMPILI...FFG'),\n",
       " 'Blattella_lituricollis --- Insecta_50557;Blattodea_85823;Blattellidae_3046527;Blattella_6972;Blattella_lituricollis_63624': Seq('TLYFIFGAWSGMVGTSLSMLIRAELNQPGSLIGDDLIYNVIVTAHAFIMIFFMV...HLF'),\n",
       " 'Blattella_nipponica --- Insecta_50557;Blattodea_85823;Blattellidae_3046527;Blattella_6972;Blattella_nipponica_244941': Seq('TLYFIFGAWCGMVGTSLSMLIRGELNHPGSLIGDDQIYNVIVTAHAFVMIFFMV...HLF'),\n",
       " 'Blattella_sauteri --- Insecta_50557;Blattodea_85823;Blattellidae_3046527;Blattella_6972;Blattella_sauteri_1908249': Seq('TLYFIFGAWSGMVGTSLSMLIRAELNQPGSLIGDDQIYNVIVTAHAFIMIFFMV...HLF'),\n",
       " 'Blattella_singularis --- Insecta_50557;Blattodea_85823;Blattellidae_3046527;Blattella_6972;Blattella_singularis_1681228': Seq('TLYFIFGAWSGMVGTSLSMLIRAELNQPGSLIGDDQIYNVIVTAHAFVMIFFMV...HLF'),\n",
       " 'Episymploce_potanini --- Insecta_50557;Blattodea_85823;Blattellidae_3046527;Episymploce_1049652;Episymploce_potanini_1928769': Seq('TLYFIFGAWSGMVGTSLSMLIRAELNQPGSLIGDDQIYNVIVTAHAFIMIFFMV...HLF'),\n",
       " 'Episymploce_wulingensis --- Insecta_50557;Blattodea_85823;Blattellidae_3046527;Episymploce_1049652;Episymploce_wulingensis_1928780': Seq('MGTLYFIFGAWSGMVGTSLSMLIRAELNQPGSLIGDDQIYNVIVTAHAFIMIFF...ISH'),\n",
       " 'Parcoblatta_pensylvanica --- Insecta_50557;Blattodea_85823;Blattellidae_3046527;Parcoblatta_37812;Parcoblatta_pensylvanica_37813': Seq('TLYFIFGAWSGMVGTSLSMLIRAELNQPGSLIGDDQIYNVIVTAHAFIMIFFMV...DPI'),\n",
       " 'Pseudothyrsocera_sinensis --- Insecta_50557;Blattodea_85823;Blattellidae_3046527;Pseudothyrsocera_1928797;Pseudothyrsocera_sinensis_1928798': Seq('TLYFIFGAWSGMVGTSLSMLIRAELNQPGSLIGDDQIYNVIVTAHAFIMIFFMV...HLF'),\n",
       " 'Sigmella_normalis --- Insecta_50557;Blattodea_85823;Blattellidae_3046527;Sigmella_1670701;Sigmella_normalis_2744873': Seq('MKRWLFSTNHKDIGTLYFIFGAWSGMIGTSLSMLIRAELNQPGSLIGDDQIYNV...TNS'),\n",
       " 'Sigmella_puchihlungi --- Insecta_50557;Blattodea_85823;Blattellidae_3046527;Sigmella_1670701;Sigmella_puchihlungi_1928777': Seq('TLYFIFGAWSGMIGTSLSMLIRAELNQPGSLIGDDQIYNVIVTAHAFVMIFFMV...HLF'),\n",
       " 'Sigmella_schenklingi --- Insecta_50557;Blattodea_85823;Blattellidae_3046527;Sigmella_1670701;Sigmella_schenklingi_1928778': Seq('TLYFIFGAWSGMIGTSLSMLIRAELNQPGSLIGDDQIYNVIVTAHAFVMIFFMV...HLF'),\n",
       " 'Sinatablatta_hoplites --- Insecta_50557;Blattodea_85823;Blattellidae_3046527;Sinatablatta_2992518;Sinatablatta_hoplites_2992520': Seq('MLIRAELNQPGSLIGDDQIYNVIVTAHAFIMIFFMVMPILIGGFGNWLVPLMLG...FFG'),\n",
       " 'Ectobius_lapponicus --- Insecta_50557;Blattodea_85823;Ectobiidae_1049651;Ectobius_406636;Ectobius_lapponicus_406637': Seq('TLYFIFGAWSGMVGTSLSMLIRAELNQPGSLIGDDQIYNVIVTAHAFIMIFFMV...HLF'),\n",
       " 'Ectobius_pallidus --- Insecta_50557;Blattodea_85823;Ectobiidae_1049651;Ectobius_406636;Ectobius_pallidus_406638': Seq('FGAWSGMIGTSLSMLIRAELNQPGSLIGDDQIYNVIVTAHAFIMIFFMVMPILI...LYQ'),\n",
       " 'Phyllodromica_iberica --- Insecta_50557;Blattodea_85823;Ectobiidae_1049651;Phyllodromica_435306;Phyllodromica_iberica_435311': Seq('LKRWLFSTNHKDIGTLYFIFGAWSGMMGTSLSMLIRTELNQPGSLIGDDQIYNV...TFI'),\n",
       " 'Supella_longipalpa --- Insecta_50557;Blattodea_85823;Ectobiidae_1049651;Supella_83901;Supella_longipalpa_83902': Seq('TLYFVFGAWSGMVGTSLSMLIRTELNQPGSLIGDDQIYNVIVTAHAFVMIFFMV...HLF'),\n",
       " 'Margattea_bisignata --- Insecta_50557;Blattodea_85823;Pseudophyllodromiidae_3046452;Margattea_1080994;Margattea_bisignata_1928774': Seq('TLYFMFGGWAGMVGTSLSMLIRAELNQPGSLIGDDQIYNVIVTAHAFIMIFFMV...HLF'),\n",
       " 'Margattea_concava --- Insecta_50557;Blattodea_85823;Pseudophyllodromiidae_3046452;Margattea_1080994;Margattea_concava_1928781': Seq('PLYFMFGGWAGMVGTSLSMLIRAELTQPGSLIGDDQIYNVIVTAHAFVMIFFMV...HLF'),\n",
       " 'Margattea_nimbata --- Insecta_50557;Blattodea_85823;Pseudophyllodromiidae_3046452;Margattea_1080994;Margattea_nimbata_1080995': Seq('PEVYILILPGFGMISHIICHESGKKEAFGNLGMIFAMMAIGLLGFVVWAHHMFT...EHS'),\n",
       " 'Margattea_spinifera --- Insecta_50557;Blattodea_85823;Pseudophyllodromiidae_3046452;Margattea_1080994;Margattea_spinifera_1928775': Seq('TLYFMFGGWAGMVGTSLSMLIRAELNQPGSLIGDDQIYNVIVTAHAFIMIFFMV...HLF'),\n",
       " 'Margattea_spinosa --- Insecta_50557;Blattodea_85823;Pseudophyllodromiidae_3046452;Margattea_1080994;Margattea_spinosa_1928776': Seq('TLYFLFGGWAGMVGTSLSMLIRAELNQPGSLIGDDQIYNVIVTAHAFIMIFFMV...HLF'),\n",
       " 'Anaplecta_omei --- Insecta_50557;Blattodea_85823;Anaplectidae_2163898;Anaplecta_1554543;Anaplecta_omei_2093429': Seq('TLYFIFGAWSGMVGTSLSMLIRTELGQPGSLIGDDQIYNVIVTAHAFVMIFFMV...HLF'),\n",
       " 'Bundoksia_longissima --- Insecta_50557;Blattodea_85823;Blattidae_6974;Bundoksia_2912539;Bundoksia_longissima_2912541': Seq('TLYFIFGAWSGMVGTSLSMLIRTELGQPGSLIGDDQIYNVIVTAHAFVMIFFMV...HLF'),\n",
       " 'Blatta_orientalis --- Insecta_50557;Blattodea_85823;Blattidae_6974;Blatta_6975;Blatta_orientalis_6976': Seq('TLYFIFGAWSGMVGTSLSMLIRAELGQPGSLIGDDQIYNVIVTAHAFVMIFFMV...HLF'),\n",
       " 'Celatoblatta_brunni --- Insecta_50557;Blattodea_85823;Blattidae_6974;Celatoblatta_153169;Celatoblatta_brunni_153189': Seq('ILPGFGMISHIICHESGKKEAFGNLGMIFAMLAIGLLGFVVWAHHMFTVGMDVD...AYT'),\n",
       " 'Celatoblatta_notialis --- Insecta_50557;Blattodea_85823;Blattidae_6974;Celatoblatta_153169;Celatoblatta_notialis_153191': Seq('ILPGFGMISHIICHESGKKEAFGNLGMIFAMLAIGLLGFVVWAHHMFTVGMDVD...YTA'),\n",
       " 'Celatoblatta_quinquemaculata --- Insecta_50557;Blattodea_85823;Blattidae_6974;Celatoblatta_153169;Celatoblatta_quinquemaculata_153192': Seq('MIFAMLAIGLLGFVVWAHHMFTVGMDVDTRAYFTSATMIIAVPTGIKIFSWLAT...YTA'),\n",
       " 'Celatoblatta_vulgaris --- Insecta_50557;Blattodea_85823;Blattidae_6974;Celatoblatta_153169;Celatoblatta_vulgaris_153195': Seq('MIFAMLAIGLLGFVVWAHHMFTVGMDVDTRAYFTSATMIIAVPTGIKIFSWLAT...YTA'),\n",
       " 'Periplaneta_americana --- Insecta_50557;Blattodea_85823;Blattidae_6974;Periplaneta_6977;Periplaneta_americana_6978': Seq('DIGTLYFIFGAWSGMVGTSLSMLIRAELGQPGSLIGDDQIYNVIVTAHAFIMIF...ACG'),\n",
       " 'Periplaneta_australasiae --- Insecta_50557;Blattodea_85823;Blattidae_6974;Periplaneta_6977;Periplaneta_australasiae_36975': Seq('KDIGTLYFIFGAWSGMVGTSLSMLIRAELGQPGSLIGDDQIYNVIVTAHAFIMI...ILY'),\n",
       " 'Periplaneta_brunnea --- Insecta_50557;Blattodea_85823;Blattidae_6974;Periplaneta_6977;Periplaneta_brunnea_36976': Seq('AWSGMVGTSLSMLIRAELGQPGSLIGDDQIYNVIVTAHAFIMIFFMVMPIMIGG...HRE'),\n",
       " 'Periplaneta_fuliginosa --- Insecta_50557;Blattodea_85823;Blattidae_6974;Periplaneta_6977;Periplaneta_fuliginosa_36977': Seq('TLYFIFGAWSGMVGTSLSMLIRAELGQPGSLIGDDQIYNVIVTAHAFIMIFFMV...HLF'),\n",
       " 'Periplaneta_lateralis --- Insecta_50557;Blattodea_85823;Blattidae_6974;Periplaneta_6977;Periplaneta_lateralis_36981': Seq('PDMAFPRMNNMSFWLLPPSLTLLLASSMVESGAGTGWTVYPPLASGIAHAGASV...LPG'),\n",
       " 'Hebardina_concinna --- Insecta_50557;Blattodea_85823;Blattidae_6974;Hebardina_1432380;Hebardina_concinna_1432381': Seq('TLYFIFGAWSGMVGTSLSMLIRAELGQPGSLIGDDQIYNVIVTAHAFIMIFFMV...HLF'),\n",
       " 'Polyzosteria_yingina --- Insecta_50557;Blattodea_85823;Blattidae_6974;Polyzosteria_1556153;Polyzosteria_yingina_2794581': Seq('GTLYFIFGAWSGMVVTSSTMMIRAELGQPGSLIGDDQIYNVIVTAHAFIMIFFM...LNT'),\n",
       " 'Cryptocercus_changbaiensis --- Insecta_50557;Blattodea_85823;Cryptocercidae_36982;Cryptocercus_36983;Cryptocercus_changbaiensis_1980968': Seq('TLYFIFGAWSGMVGTSLSMLIRTELGQPGSLIGDDQIYNVIVTAHAFVMIFFMV...HLF'),\n",
       " 'Cryptocercus_gexigouensis --- Insecta_50557;Blattodea_85823;Cryptocercidae_36982;Cryptocercus_36983;Cryptocercus_gexigouensis_2654483': Seq('TLYFIFGAWSGMVGTSLSMLIRTELGQPGSLIGDDQIYNVIVTAHAFVMIFFMV...HLF'),\n",
       " 'Cryptocercus_hirtus --- Insecta_50557;Blattodea_85823;Cryptocercidae_36982;Cryptocercus_36983;Cryptocercus_hirtus_486157': Seq('TLYFIFGAWSGMVGTSLSMLIRTELEQPGSLIGDDQIYNVIVTAHAFVMIFFMV...HLF'),\n",
       " 'Cryptocercus_laojunensis --- Insecta_50557;Blattodea_85823;Cryptocercidae_36982;Cryptocercus_36983;Cryptocercus_laojunensis_1980970': Seq('TLYFIFGAWSGMVGTSLSMLIRTELGQPGSLIGDDQIYNVIVTAHAFVMIFFMV...HLF'),\n",
       " 'Cryptocercus_luanchuanensis --- Insecta_50557;Blattodea_85823;Cryptocercidae_36982;Cryptocercus_36983;Cryptocercus_luanchuanensis_1980971': Seq('TLYFIFGAWSGMVGTSLSMLIRTELGQPGSLIGDDQIYNVIVTAHAFVMIFFMV...HLF'),\n",
       " 'Cryptocercus_punctulatus --- Insecta_50557;Blattodea_85823;Cryptocercidae_36982;Cryptocercus_36983;Cryptocercus_punctulatus_36984': Seq('LYFIFGAWSGMMGTSLSMLIRMELGQPGFLXGDDQIYNVIVTAHAFVMIFFMVM...FGN'),\n",
       " 'Cryptocercus_relictus --- Insecta_50557;Blattodea_85823;Cryptocercidae_36982;Cryptocercus_36983;Cryptocercus_relictus_63626': Seq('MKRWMFSTNHKDIGTLYFVFGAWSGMVGTSLSMLIRTELGQPGSLIGDDQIYNV...ITN'),\n",
       " 'Anacanthotermes_ochraceus --- Insecta_50557;Blattodea_85823;Hodotermitidae_70920;Anacanthotermes_377695;Anacanthotermes_ochraceus_377858': Seq('IFGAWAGMVGTSLSMLIRTELGQPGSLIGDDQIYNVIVTAHAFVMIFFMVMPIM...PEF'),\n",
       " 'Cryptotermes_domesticus --- Insecta_50557;Blattodea_85823;Kalotermitidae_46562;Cryptotermes_60568;Cryptotermes_domesticus_60569': Seq('TLYFIFGAWSGMVGTSLSMLIRAELGQPGSLIGDDQIYNVIVTAHAFVMIFFMV...HLF'),\n",
       " 'Cryptotermes_dudleyi --- Insecta_50557;Blattodea_85823;Kalotermitidae_46562;Cryptotermes_60568;Cryptotermes_dudleyi_105782': Seq('FGAWSGMVGTSLSMLIRAELGQPGSLIGDDQIYNVIVTAHAFVMIFFMVMPIMI...GGG'),\n",
       " 'Cryptotermes_havilandi --- Insecta_50557;Blattodea_85823;Kalotermitidae_46562;Cryptotermes_60568;Cryptotermes_havilandi_641612': Seq('TLYFIFGAWSGMVGTSLSMLIRAELGQPGSLIGDDQIYNVIVTAHAFVMIFFMV...HLF'),\n",
       " 'Neotermes_castaneus --- Insecta_50557;Blattodea_85823;Kalotermitidae_46562;Neotermes_46567;Neotermes_castaneus_223394': Seq('FGAWSGMVGTSLSMLIRAELGQPGSLIGDDQIYNVIVTAHAFVMIFFMVMPIMI...HLF'),\n",
       " 'Neotermes_holmgreni --- Insecta_50557;Blattodea_85823;Kalotermitidae_46562;Neotermes_46567;Neotermes_holmgreni_488271': Seq('TLYFIFGAWSGMVGTSLSMLIRTELGQPGSLIGDDQIYNVIVTAHAFVMIFFMV...AGG'),\n",
       " 'Coptotermes_acinaciformis --- Insecta_50557;Blattodea_85823;Rhinotermitidae_36985;Coptotermes_36986;Coptotermes_acinaciformis_72654': Seq('MFNRWFFSTNHKDIGTLYFVFGAWSGMVGTSLSMLIRTELGQPGSLIGDDQIYN...TNN'),\n",
       " 'Coptotermes_formosanus --- Insecta_50557;Blattodea_85823;Rhinotermitidae_36985;Coptotermes_36986;Coptotermes_formosanus_36987': Seq('IGTLYFVFGAWSGMVGTSLSMLIRTELGQPGSLIGDDQIYNVIVTAHAFVMIFF...LFW'),\n",
       " 'Coptotermes_frenchi --- Insecta_50557;Blattodea_85823;Rhinotermitidae_36985;Coptotermes_36986;Coptotermes_frenchi_370047': Seq('MFNRWFFSTNHKDIGTLYFVFGAWSGMVGTSLSMLIRTELGQPGSLIGDDQIYN...TNN'),\n",
       " 'Coptotermes_gestroi --- Insecta_50557;Blattodea_85823;Rhinotermitidae_36985;Coptotermes_36986;Coptotermes_gestroi_232242': Seq('GAWSGMVGTSLSMLIRTELGQPGSLIGDDQIYNVIVTAHAFVMIFFMVMPILIG...ANS'),\n",
       " 'Coptotermes_heimi --- Insecta_50557;Blattodea_85823;Rhinotermitidae_36985;Coptotermes_36986;Coptotermes_heimi_282472': Seq('HKDIGSLYFLFGASSGLVGTSLSMLNRTELGQPGSLIGDDQIYNVLVTAHAFVM...PEV'),\n",
       " 'Coptotermes_lacteus --- Insecta_50557;Blattodea_85823;Rhinotermitidae_36985;Coptotermes_36986;Coptotermes_lacteus_119669': Seq('TLXXVLGAXSXMVGTSLMMLIRTELGQPGSLIGDDQIYXVIVTAHAFVMIFFMV...NPK'),\n",
       " 'Coptotermes_michaelseni --- Insecta_50557;Blattodea_85823;Rhinotermitidae_36985;Coptotermes_36986;Coptotermes_michaelseni_282474': Seq('MFNRWFFSTNHKDIGTLYFVFGAWSGMVGTSLSMLIRTELGQPGSLIGDDQIYN...TNN'),\n",
       " 'Coptotermes_testaceus --- Insecta_50557;Blattodea_85823;Rhinotermitidae_36985;Coptotermes_36986;Coptotermes_testaceus_280681': Seq('HPEVYILILPGFGMISHIICHESGKKEAFGNLGMIFAMLAIGLLGFVVWAHHMF...PTI'),\n",
       " 'Heterotermes_cardini --- Insecta_50557;Blattodea_85823;Rhinotermitidae_36985;Heterotermes_127378;Heterotermes_cardini_256706': Seq('LYFVFGAWSGMVGTSLSMLIRTELGQPGSLIGDDQIYNVIVTAHAFVMIFFMVM...QHL'),\n",
       " 'Heterotermes_crinitus --- Insecta_50557;Blattodea_85823;Rhinotermitidae_36985;Heterotermes_127378;Heterotermes_crinitus_1367271': Seq('LYFVFGAWSGMVGTSLSMLIRTELGQPGSLIGDDQIYNVIVTAHAFVMIFFMVM...QHL'),\n",
       " 'Heterotermes_lauralinearum --- Insecta_50557;Blattodea_85823;Rhinotermitidae_36985;Heterotermes_127378;Heterotermes_lauralinearum_2508166': Seq('LYFVFGAWSGMVGTSLSMLIRTELGQPGSLIGDDQIYNVIVTAHAFVMIFFMVM...TML'),\n",
       " 'Heterotermes_tenuis --- Insecta_50557;Blattodea_85823;Rhinotermitidae_36985;Heterotermes_127378;Heterotermes_tenuis_256704': Seq('LYFVFGAWSGMVGTSLSMLIRTELGQPGSLIGDDQIYNVIVTAHAFVMIFFMVM...QHL'),\n",
       " 'Reticulitermes_kanmonensis --- Insecta_50557;Blattodea_85823;Rhinotermitidae_36985;Reticulitermes_36988;Reticulitermes_kanmonensis_112477': Seq('SHIICHESGKKEAFGNLGMIFAMLAIGLLGFVVWAHHMFTVGMDVDTRAYFTSA...IEW'),\n",
       " 'Reticulitermes_nelsonae --- Insecta_50557;Blattodea_85823;Rhinotermitidae_36985;Reticulitermes_36988;Reticulitermes_nelsonae_1036538': Seq('ISHIICHESGKKEAFGNLGMIFAMLAIGLLGFVVWAHHMFTVGMDVDTRAYFTS...ELP'),\n",
       " 'Reticulitermes_flaviceps --- Insecta_50557;Blattodea_85823;Rhinotermitidae_36985;Reticulitermes_36988;Reticulitermes_flaviceps_112480': Seq('FWFFGHPEVYILILPGFGMISHIICHESGKKEAFGNLGMIFAMLAIGLLGFVVW...IEW'),\n",
       " 'Reticulitermes_speratus --- Insecta_50557;Blattodea_85823;Rhinotermitidae_36985;Reticulitermes_36988;Reticulitermes_speratus_60591': Seq('SHIICHESGKKEAFGNLGMIFAMLAIGLLGFVVWAHHMFTVGMDVDTRAYFTSA...IEW'),\n",
       " 'Reticulitermes_aculabialis --- Insecta_50557;Blattodea_85823;Rhinotermitidae_36985;Reticulitermes_36988;Reticulitermes_aculabialis_141915': Seq('FWFFGHPEVYILILPGFGMISHIICHESGKKEAFGNLGMIFAMLAIGLLGFVVW...IEW'),\n",
       " 'Reticulitermes_chinensis --- Insecta_50557;Blattodea_85823;Rhinotermitidae_36985;Reticulitermes_36988;Reticulitermes_chinensis_141911': Seq('SHIICHESGKKEAFGNLGMIFAMLAIGLLGFVVWAHHMFTVGMDVDTRAYFTSA...IEW'),\n",
       " 'Reticulitermes_banyulensis --- Insecta_50557;Blattodea_85823;Rhinotermitidae_36985;Reticulitermes_36988;Reticulitermes_banyulensis_197738': Seq('SHIICHESGKKEAFGNLGMIFAMLAIGLLGFVVWAHHMFTVGMDVDTRAYFTSA...ISV'),\n",
       " 'Reticulitermes_grassei --- Insecta_50557;Blattodea_85823;Rhinotermitidae_36985;Reticulitermes_36988;Reticulitermes_grassei_155721': Seq('SHIICHESGKKEAFGNLGMIFAMLAIGLLGFVVWAHHMFTVGMDVDTRAYFTSA...VIN'),\n",
       " 'Reticulitermes_labralis --- Insecta_50557;Blattodea_85823;Rhinotermitidae_36985;Reticulitermes_36988;Reticulitermes_labralis_141914': Seq('SHIICHESGKKEAFGNLGMIFAMLAIGLLGFVVWAHHMFTVGMDVDTRAYFTSA...SNS'),\n",
       " 'Reticulitermes_lucifugus --- Insecta_50557;Blattodea_85823;Rhinotermitidae_36985;Reticulitermes_36988;Reticulitermes_lucifugus_127386': Seq('SHIICHESGKKEAFGNLGMIFAMLAIGLLGFVVWAHHMFTVGMDVDTRAYFTSA...IEW'),\n",
       " 'Reticulitermes_urbis --- Insecta_50557;Blattodea_85823;Rhinotermitidae_36985;Reticulitermes_36988;Reticulitermes_urbis_197766': Seq('SHIICHESGKKEAFGNLGMIFAMLAIGLLGFVVWAHHMFTVGMDVDTRAYFTSA...FPT'),\n",
       " 'Reticulitermes_virginicus --- Insecta_50557;Blattodea_85823;Rhinotermitidae_36985;Reticulitermes_36988;Reticulitermes_virginicus_57123': Seq('ISHIICHESGKKEAFGNLGMIFAMLAIGLLGFVVWAHHMFTVGMDVDTRAYFTS...ELP'),\n",
       " 'Psammotermes_hypostoma --- Insecta_50557;Blattodea_85823;Rhinotermitidae_36985;Psammotermes_127384;Psammotermes_hypostoma_2994887': Seq('AWSSMVKTSLSMLILTELGQPGSLIGDDQIYNVIVTAHAFVMIFFMVMPIMIGG...HPE'),\n",
       " 'Anoplotermes_janus --- Insecta_50557;Blattodea_85823;Termitidae_46569;Anoplotermes_62953;Anoplotermes_janus_948540': Seq('TLYFVFGAWSGMVGTSLSMLIRTELGQPGSLIGDDQIYNVIVTAHAFVMIFFMV...HLF'),\n",
       " 'Aparatermes_cingulatus --- Insecta_50557;Blattodea_85823;Termitidae_46569;Aparatermes_377668;Aparatermes_cingulatus_1367267': Seq('SGMVGTSLSMLIRTELGQPGSLIGDDQIYNVIVTAHAFVMIFFMVMPIMIGGFG...HLF'),\n",
       " 'Compositermes_vindai --- Insecta_50557;Blattodea_85823;Termitidae_46569;Compositermes_1367274;Compositermes_vindai_1367275': Seq('LYFVFGAWSGMVGTSLSMLIRTELGQPGSLIGDDQIYNVIVTAHAFVMIFFMVM...HLF'),\n",
       " 'Ancistrotermes_cavithorax --- Insecta_50557;Blattodea_85823;Termitidae_46569;Ancistrotermes_139995;Ancistrotermes_cavithorax_201536': Seq('MVGTSLSMLIRTELGQPGSLIGDDQIYNVIVTAHAFVMIFFMVMPIMIGGFGNW...LYQ'),\n",
       " 'Ancistrotermes_pakistanicus --- Insecta_50557;Blattodea_85823;Termitidae_46569;Ancistrotermes_139995;Ancistrotermes_pakistanicus_229719': Seq('LIGDDQIYNVIVTAHAFVMIFFMVMPIMIGGFGNWLVPLMLGAPDMAFPRMNNM...TMG'),\n",
       " 'Macrotermes_falciger --- Insecta_50557;Blattodea_85823;Termitidae_46569;Macrotermes_46572;Macrotermes_falciger_138606': Seq('TLXFVFGAWSGMVGTSLSMLIRTELGQPGSLIGDXQIYNVIVTAHAFVMIFFMV...HLF'),\n",
       " 'Macrotermes_gilvus --- Insecta_50557;Blattodea_85823;Termitidae_46569;Macrotermes_46572;Macrotermes_gilvus_62961': Seq('LIGDDQIYNVIVTAHAFVMIFFMVMPIMIGGFGNWLVPLMLGAPDMAFPRMNNM...TMG'),\n",
       " 'Macrotermes_herus --- Insecta_50557;Blattodea_85823;Termitidae_46569;Macrotermes_46572;Macrotermes_herus_445442': Seq('TLYFVFGAWSGMVGTSLSMLIRTELGQPGSLIGDDQIYNVIVTAHAFVMIFFMV...HLF'),\n",
       " 'Macrotermes_subhyalinus --- Insecta_50557;Blattodea_85823;Termitidae_46569;Macrotermes_46572;Macrotermes_subhyalinus_138608': Seq('TLYFVFGAWSGMAGTSLSMLIRTELGQPGSLIGDDQIYNVIVTAHAFVMIFFMV...HLF'),\n",
       " 'Odontotermes_javanicus --- Insecta_50557;Blattodea_85823;Termitidae_46569;Odontotermes_60587;Odontotermes_javanicus_201590': Seq('IRTELGQPGSLIGDDQIYNVIVTAHAFVMIFFMVMPIMIGGFGNWLVPLMLGAP...IVL'),\n",
       " 'Odontotermes_latericius --- Insecta_50557;Blattodea_85823;Termitidae_46569;Odontotermes_60587;Odontotermes_latericius_201591': Seq('VGTSLSMLIRTEFGQPGSLIGDDQIYNVIVTAHAFVMIFFMVMPIMIGGFGNWL...HLF'),\n",
       " 'Odontotermes_malaccensis --- Insecta_50557;Blattodea_85823;Termitidae_46569;Odontotermes_60587;Odontotermes_malaccensis_1050852': Seq('GTSLSMLIRTELGQPGSLIGDDQIYNVIVTAHAFVMIFFMVMPIMIGGFGNWLV...TMG'),\n",
       " 'Odontotermes_obesus --- Insecta_50557;Blattodea_85823;Termitidae_46569;Odontotermes_60587;Odontotermes_obesus_483037': Seq('VGTSLKMLIRTQLGQPGSLIGDDQIYNVIVTAHAFVMIFFMVMPIMIGGFRNWL...LFW'),\n",
       " 'Odontotermes_sarawakensis --- Insecta_50557;Blattodea_85823;Termitidae_46569;Odontotermes_60587;Odontotermes_sarawakensis_201599': Seq('GTSLSMLIRTELGQPGSLIGDDQIYNVIVTAHAFVMIFFMVMPIMIGGFGNWLV...LFT'),\n",
       " 'Nasutitermes_canaliculatus --- Insecta_50557;Blattodea_85823;Termitidae_46569;Nasutitermes_46570;Nasutitermes_canaliculatus_377939': Seq('MFTRWFFSTNHKDIGTLYFVFGAWSGMVGTSLSMLIRTELGQPGSLIGDDQIYN...LTN'),\n",
       " 'Nasutitermes_ephratae --- Insecta_50557;Blattodea_85823;Termitidae_46569;Nasutitermes_46570;Nasutitermes_ephratae_114633': Seq('GAWSGMVGTSLSMLIRTELGQPGSLIGDDQIYNVIVTAHAFVMIFFMVMPIMIG...DPA'),\n",
       " 'Nasutitermes_matangensis --- Insecta_50557;Blattodea_85823;Termitidae_46569;Nasutitermes_46570;Nasutitermes_matangensis_114637': Seq('MFARWFFSTNHKDIGTLYFVFGAWSGMVGTSLSMLIRTELGQPGSLIGDDQIYN...LTN'),\n",
       " 'Trinervitermes_geminatus --- Insecta_50557;Blattodea_85823;Termitidae_46569;Trinervitermes_70854;Trinervitermes_geminatus_377995': Seq('SSTVESGVGTGWTVYPPLASGIAHAGASVDLAIFSLHLAGVSSILGAVNFITTT...MNP'),\n",
       " 'Trinervitermes_oeconomus --- Insecta_50557;Blattodea_85823;Termitidae_46569;Trinervitermes_70854;Trinervitermes_oeconomus_1042816': Seq('HAGASVDLAIFSLHLAGVSSILGAVNFITTTINMKPKSMKPERIPLFVWSIAIT...MNP'),\n",
       " 'Trinervitermes_trinervoides --- Insecta_50557;Blattodea_85823;Termitidae_46569;Trinervitermes_70854;Trinervitermes_trinervoides_70855': Seq('QQNHKDIGTLYFVFGAWSGMVGTSLSMLIRTELGQPGSLIGDDQIYNVIVTAHA...LNT'),\n",
       " 'Embiratermes_chagresi --- Insecta_50557;Blattodea_85823;Termitidae_46569;Embiratermes_62944;Embiratermes_chagresi_62945': Seq('WSGMVGTSLSMLIRTELGQPGSLIGDDQIYNVIVTAHAFVMIFFMVMPIMIGGF...HLF'),\n",
       " 'Embiratermes_neotenicus --- Insecta_50557;Blattodea_85823;Termitidae_46569;Embiratermes_62944;Embiratermes_neotenicus_1367269': Seq('GAWSGMVGTSLSMLIRTELGQPGSLIGDDQIYNVIVTAHAFVMIFFMVMPIMIG...FFG'),\n",
       " 'Silvestritermes_minutus --- Insecta_50557;Blattodea_85823;Termitidae_46569;Silvestritermes_1354326;Silvestritermes_minutus_1778921': Seq('DIGTLYFVFGAWSGMVGTSLSMLIRTELGQPGSLIGDDQIYNVIVTAHAFVMIF...WFF'),\n",
       " 'Microcerotermes_arboreus --- Insecta_50557;Blattodea_85823;Termitidae_46569;Microcerotermes_139992;Microcerotermes_arboreus_377930': Seq('TLYFLFGAWSGMVGTSLSMLIRTELGQPGSLIGDDQIYNVIVTAHAFVMIFFMV...PAG'),\n",
       " 'Microcerotermes_parvus --- Insecta_50557;Blattodea_85823;Termitidae_46569;Microcerotermes_139992;Microcerotermes_parvus_187517': Seq('MFTRWFFSTNHKDIGTLYFLFGAWSGMVGTSLSMLIRTELGQPGSLIGDDQIYN...LTN'),\n",
       " 'Nitiditermes_proximatus --- Insecta_50557;Blattodea_85823;Termitidae_46569;Nitiditermes_377798;Nitiditermes_proximatus_2755525': Seq('MVGTSLSMLIRTELGQPGSLIGDDQIYNVIVTAHAFVMIFFMVMPIMIGGFGNW...GGD'),\n",
       " 'Pericapritermes_topslipensis --- Insecta_50557;Blattodea_85823;Termitidae_46569;Pericapritermes_64671;Pericapritermes_topslipensis_2723785': Seq('GLISMVGTSLSMLIRTELGQPGSLIGDDQIYNVIVTAHAFVMIFFMVMPIMIGG...GHW'),\n",
       " 'Neocapritermes_opacus --- Insecta_50557;Blattodea_85823;Termitidae_46569;Neocapritermes_187546;Neocapritermes_opacus_2259547': Seq('MVGTSLSMLIRTELGQPGSLIGDDQIYNVIVTAHAFVMIFFMVMPIMIGGFGNW...HLF'),\n",
       " 'Zootermopsis_angusticollis --- Insecta_50557;Blattodea_85823;Termopsidae_7501;Zootermopsis_7502;Zootermopsis_angusticollis_7503': Seq('LYFIFGAWSGMLGTSLSMLIRAELGQPGSLIGDDQIYNVIVTAHAFIMIFFMVM...YQH'),\n",
       " 'Zootermopsis_nevadensis --- Insecta_50557;Blattodea_85823;Termopsidae_7501;Zootermopsis_7502;Zootermopsis_nevadensis_136037': Seq('HPEVYILILPGFGMISHIICHESGKKEAFGNLGMIFAMLAIGLLGFVVWAHHMF...ELP'),\n",
       " 'Arenivaga_floridensis --- Insecta_50557;Blattodea_85823;Corydiidae_30007;Arenivaga_1080988;Arenivaga_floridensis_1080989': Seq('HPEVYILILPGFGMISHIICHESGKKEAFGNLGMIFAMLAIGLLGFVVWAHHMF...VKL'),\n",
       " 'Eupolyphaga_hanae --- Insecta_50557;Blattodea_85823;Corydiidae_30007;Eupolyphaga_367773;Eupolyphaga_hanae_2972401': Seq('MIQRWMYSTNHKDIGTLYFIFGAWAGMVGTSLSMLIRAELGQPGSLIGDDQIYN...ELK'),\n",
       " 'Eupolyphaga_robusta --- Insecta_50557;Blattodea_85823;Corydiidae_30007;Eupolyphaga_367773;Eupolyphaga_robusta_2972405': Seq('AWAGMVGTSLSMLIRAELGQPGSLIGDDQIYNVIVTAHAFVMIFFMVMPILIGG...HLF'),\n",
       " 'Eupolyphaga_sinensis --- Insecta_50557;Blattodea_85823;Corydiidae_30007;Eupolyphaga_367773;Eupolyphaga_sinensis_367774': Seq('TLYFIFGAWAGMVGTSLSMLIRAELGQPGSLIGDDQIYNVIVTAHAFVMIFFMV...HLF'),\n",
       " 'Eupolyphaga_yunnanensis --- Insecta_50557;Blattodea_85823;Corydiidae_30007;Eupolyphaga_367773;Eupolyphaga_yunnanensis_1884317': Seq('TLYFIFGAWAGMVGTSLSMLIRMELGQPGSLIGDDQIYNVIVTAHAFVMIFFMV...HLF'),\n",
       " 'Nocticola_currani --- Insecta_50557;Blattodea_85823;Nocticolidae_85826;Nocticola_406669;Nocticola_currani_1856262': Seq('DPVLYQHLFWFFGHPEVYILILPGFGLISHVLIHESGKKESFGNLSMIFAMMSI...FLG'),\n",
       " 'Nocticola_quartermainei --- Insecta_50557;Blattodea_85823;Nocticolidae_85826;Nocticola_406669;Nocticola_quartermainei_3065785': Seq('TMYFILGIWSSMLGTSMSIMIRTELGQPGSLIGDDQIYNVIVTAHAFIMIFFMV...HLF')}"
      ]
     },
     "execution_count": 76,
     "metadata": {},
     "output_type": "execute_result"
    }
   ],
   "source": [
    "prots_filtered"
   ]
  },
  {
   "cell_type": "code",
   "execution_count": 77,
   "metadata": {},
   "outputs": [
    {
     "data": {
      "text/plain": [
       "{'Anaplectidae_2163898',\n",
       " 'Blaberidae_6979',\n",
       " 'Blattellidae_3046527',\n",
       " 'Blattidae_6974',\n",
       " 'Corydiidae_30007',\n",
       " 'Cryptocercidae_36982',\n",
       " 'Ectobiidae_1049651',\n",
       " 'Hodotermitidae_70920',\n",
       " 'Kalotermitidae_46562',\n",
       " 'Nocticolidae_85826',\n",
       " 'Pseudophyllodromiidae_3046452',\n",
       " 'Rhinotermitidae_36985',\n",
       " 'Termitidae_46569',\n",
       " 'Termopsidae_7501'}"
      ]
     },
     "execution_count": 77,
     "metadata": {},
     "output_type": "execute_result"
    }
   ],
   "source": [
    "fams = set()\n",
    "for sp in prots_filtered.keys():\n",
    "    fam = sp.split(';')[2]\n",
    "    fams.add(fam)\n",
    "fams"
   ]
  },
  {
   "cell_type": "code",
   "execution_count": 78,
   "metadata": {},
   "outputs": [],
   "source": [
    "ter_fams = ['Hodotermitidae_70920', 'Kalotermitidae_46562', 'Rhinotermitidae_36985', 'Termitidae_46569', 'Termopsidae_7501']\n",
    "\n",
    "taxonomy_all = []\n",
    "\n",
    "for sp, seq in prots_filtered.items():\n",
    "    fam = sp.split(';')[2]\n",
    "    sp_name = sp.split(' --- ')[0]\n",
    "    taxonomy = reversed(re.sub(r'_[0-9]+', '', sp).split(\";\")[1:])\n",
    "    taxonomy = \";\".join(taxonomy) + \";Insecta\"\n",
    "    taxonomy_all.append(taxonomy)\n",
    "\n",
    "    if fam in ter_fams:\n",
    "        with open(f\"/home/gabs/Documents/lab/TermitesAndCockroaches/mtdna-mutspec-insecta/data/NemuPipeline/TermAndCock/new_midori_sep_ids/termite/{sp_name}_CO1.fasta\", \"w\") as fout:\n",
    "            fout.write(f\">{sp}\\n{seq}\")\n",
    "    else:\n",
    "        with open(f\"/mnt/data/Documents/lab/TermitesAndCockroaches/mtdna-mutspec-insecta/data/NemuPipeline/TermAndCock/new_midori_sep_ids/non-termite/{sp_name}_CO1.fasta\", \"w\") as fout:\n",
    "            fout.write(f\">{sp}\\n{seq}\")\n",
    "\n",
    "with open('/home/gabs/Documents/lab/TermitesAndCockroaches/mtdna-mutspec-insecta/data/MIDORI/new_blattodea_CO1.tax', 'w') as fout:\n",
    "    for entry in taxonomy_all:\n",
    "        fout.write(f'{entry}\\n')\n"
   ]
  }
 ],
 "metadata": {
  "kernelspec": {
   "display_name": ".venv",
   "language": "python",
   "name": "python3"
  },
  "language_info": {
   "codemirror_mode": {
    "name": "ipython",
    "version": 3
   },
   "file_extension": ".py",
   "mimetype": "text/x-python",
   "name": "python",
   "nbconvert_exporter": "python",
   "pygments_lexer": "ipython3",
   "version": "3.11.0"
  },
  "orig_nbformat": 4
 },
 "nbformat": 4,
 "nbformat_minor": 2
}
