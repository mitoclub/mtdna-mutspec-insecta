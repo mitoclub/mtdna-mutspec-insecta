{
 "cells": [
  {
   "cell_type": "code",
   "execution_count": 2,
   "metadata": {},
   "outputs": [],
   "source": [
    "from Bio import SeqIO\n",
    "import re\n",
    "from collections import Counter\n",
    "import pandas as pd\n",
    "import os.path\n",
    "import panel as pn\n",
    "genes = ['A6', 'A8', 'CO1', 'CO2', 'CO3', 'Cytb', 'ND1', 'ND2', 'ND3', 'ND4', 'ND4L', 'ND5', 'ND6']\n",
    "PATH_TO_MIDORI_FOLDER = '../../../MIDORI'\n",
    "PATH_TO_MIDORI_TABLE = '../../interim/MIDORI'"
   ]
  },
  {
   "cell_type": "code",
   "execution_count": 15,
   "metadata": {},
   "outputs": [],
   "source": [
    "def parser(taxa, gene):\n",
    "    all_sp = []\n",
    "    db = f'{PATH_TO_MIDORI_FOLDER}/{gene}.fasta'\n",
    "    for entry in SeqIO.parse(db, 'fasta'):\n",
    "        if taxa in entry.id:\n",
    "            taxonomy = entry.id.split(';')\n",
    "            #Species and Taxonomy are merged for now\n",
    "            all_sp.append(f'{taxonomy[7]}|{taxonomy[4]}|{taxonomy[5]}|{\";\".join(taxonomy[1:6])}')\n",
    "    counted_sp = Counter(all_sp)\n",
    "    \n",
    "    #Check if we already have data on other genes\n",
    "    if os.path.isfile(f'{PATH_TO_MIDORI_TABLE}/midori_sp_table.csv'):\n",
    "        df = pd.read_csv(f'{PATH_TO_MIDORI_TABLE}/midori_sp_table.csv')\n",
    "    else: \n",
    "        df = pd.DataFrame()\n",
    "    sp_name = []\n",
    "    gene_count = []\n",
    "    for k,v in counted_sp.items():\n",
    "        sp_name.append(k)\n",
    "        gene_count.append(v)\n",
    "    \n",
    "    #Properly appending or merging df with gathered data\n",
    "    tmp_df = pd.DataFrame({'Species':sp_name, gene:gene_count})\n",
    "    if df.empty:   \n",
    "        df = df.append(tmp_df)\n",
    "    else:\n",
    "        df = pd.merge(df, tmp_df, how=\"outer\")\n",
    "    df = df.fillna(0)\n",
    "    df.to_csv(f'{PATH_TO_MIDORI_TABLE}/midori_sp_table.csv', index=False)\n",
    "    \n",
    "\n",
    "\n"
   ]
  },
  {
   "cell_type": "code",
   "execution_count": 16,
   "metadata": {},
   "outputs": [
    {
     "name": "stderr",
     "output_type": "stream",
     "text": [
      "/tmp/ipykernel_39990/98930972.py:25: FutureWarning: The frame.append method is deprecated and will be removed from pandas in a future version. Use pandas.concat instead.\n",
      "  df = df.append(tmp_df)\n"
     ]
    }
   ],
   "source": [
    "#Parse\n",
    "for gene in genes:\n",
    "    parser('Insecta', gene)\n",
    "\n",
    "#Separate taxonomy from species\n",
    "df = pd.read_csv(f'{PATH_TO_MIDORI_TABLE}/midori_sp_table.csv')\n",
    "sp_name = []\n",
    "orders= []\n",
    "fams = []\n",
    "taxonomy = []\n",
    "for sp_fam in df['Species']:\n",
    "    taxas = sp_fam.split('|')\n",
    "    sp_name.append(taxas[0])\n",
    "    orders.append(taxas[1])\n",
    "    fams.append(taxas[2])\n",
    "    taxonomy.append(taxas[3])\n",
    "\n",
    "df['Species'] = sp_name\n",
    "df['Orders'] = orders\n",
    "df['Families'] = fams\n",
    "df['Complete Taxonomy'] = taxonomy\n",
    "df = df[['Species', 'Orders', 'Families', 'Complete Taxonomy', 'A6', 'A8', 'CO1', 'CO2', 'CO3', 'Cytb', 'ND1', 'ND2', 'ND3', 'ND4', 'ND4L', 'ND5', 'ND6']] \n",
    "df.sort_values(by=['Orders', 'Families'], inplace=True)\n",
    "df.to_csv(f'{PATH_TO_MIDORI_TABLE}/midori_sp_table.csv', index=False)"
   ]
  },
  {
   "cell_type": "code",
   "execution_count": 17,
   "metadata": {},
   "outputs": [
    {
     "name": "stdout",
     "output_type": "stream",
     "text": [
      "Sp_Num = 125214\n",
      "A6 - 9768.0\n",
      "A8 - 7705.0\n",
      "CO1 - 834893.0\n",
      "CO2 - 52078.0\n",
      "CO3 - 10269.0\n",
      "Cytb - 41420.0\n",
      "ND1 - 15596.0\n",
      "ND2 - 12076.0\n",
      "ND3 - 8409.0\n",
      "ND4 - 13018.0\n",
      "ND4L - 7957.0\n",
      "ND5 - 21779.0\n",
      "ND6 - 9012.0\n"
     ]
    }
   ],
   "source": [
    "df = pd.read_csv(f'{PATH_TO_MIDORI_TABLE}/midori_sp_table.csv')\n",
    "#Complete stats of df\n",
    "print(f'Sp_Num = {len(df[\"Species\"])}')\n",
    "for gene in genes:\n",
    "    print(f'{gene} - {sum(df[gene])}')"
   ]
  },
  {
   "cell_type": "code",
   "execution_count": 19,
   "metadata": {},
   "outputs": [
    {
     "name": "stdout",
     "output_type": "stream",
     "text": [
      "Number of species with at least 5 sequences of A6 - 119\n",
      "Number of species with at least 5 sequences of A8 - 55\n",
      "Number of species with at least 5 sequences of CO1 - 31690\n",
      "Number of species with at least 5 sequences of CO2 - 1627\n",
      "Number of species with at least 5 sequences of CO3 - 139\n",
      "Number of species with at least 5 sequences of Cytb - 1145\n",
      "Number of species with at least 5 sequences of ND1 - 256\n",
      "Number of species with at least 5 sequences of ND2 - 199\n",
      "Number of species with at least 5 sequences of ND3 - 78\n",
      "Number of species with at least 5 sequences of ND4 - 182\n",
      "Number of species with at least 5 sequences of ND4L - 61\n",
      "Number of species with at least 5 sequences of ND5 - 476\n",
      "Number of species with at least 5 sequences of ND6 - 113\n",
      "At least 5 sequences of any gene - 38938\n"
     ]
    }
   ],
   "source": [
    "df = pd.read_csv(f'{PATH_TO_MIDORI_TABLE}/midori_sp_table.csv') # rewrite df, so that it's unmodified\n",
    "for gene in genes:\n",
    "    at_least_5 = len(df[df[gene] >= 5])\n",
    "    print(f'Number of species with at least 5 sequences of {gene} - {at_least_5}')\n",
    "\n",
    "# Avoiding counting Species and Taxonomy columns    \n",
    "col_list= list(df)\n",
    "col_list.remove('Species')\n",
    "col_list.remove('Orders')\n",
    "col_list.remove('Families')\n",
    "col_list.remove('Complete Taxonomy')\n",
    "df['Total'] = df[col_list].sum(axis=1) # Sum of all genes for a sp\n",
    "print(f'At least 5 sequences of any gene - {len(df[df[\"Total\"] >= 5])}')"
   ]
  },
  {
   "cell_type": "code",
   "execution_count": 26,
   "metadata": {},
   "outputs": [],
   "source": [
    "#Make table of only CO1 with at least 5 seqs per sp\n",
    "df = pd.read_csv(f'{PATH_TO_MIDORI_TABLE}/midori_sp_table.csv')\n",
    "df = df[df['CO1'] >= 5]\n",
    "for gene in genes:\n",
    "    if gene != 'CO1':\n",
    "        del df[gene]\n",
    "df.to_csv(f'{PATH_TO_MIDORI_TABLE}/midori_CO1_table.csv', index=False)\n",
    "df.to_excel(f'{PATH_TO_MIDORI_TABLE}/midori_CO1_table.xlsx', index=False)"
   ]
  }
 ],
 "metadata": {
  "kernelspec": {
   "display_name": "Python 3",
   "language": "python",
   "name": "python3"
  },
  "language_info": {
   "codemirror_mode": {
    "name": "ipython",
    "version": 3
   },
   "file_extension": ".py",
   "mimetype": "text/x-python",
   "name": "python",
   "nbconvert_exporter": "python",
   "pygments_lexer": "ipython3",
   "version": "3.10.6"
  },
  "orig_nbformat": 4,
  "vscode": {
   "interpreter": {
    "hash": "e7370f93d1d0cde622a1f8e1c04877d8463912d04d973331ad4851f04de6915a"
   }
  }
 },
 "nbformat": 4,
 "nbformat_minor": 2
}
