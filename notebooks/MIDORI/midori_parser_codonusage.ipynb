{
 "cells": [
  {
   "cell_type": "code",
   "execution_count": 22,
   "metadata": {},
   "outputs": [],
   "source": [
    "from Bio import SeqIO\n",
    "from Bio import SeqIO\n",
    "from Bio.Seq import Seq\n",
    "from Bio.SeqRecord import SeqRecord\n",
    "from Bio.SeqFeature import SeqFeature, FeatureLocation\n",
    "import os.path\n",
    "import os\n",
    "\n",
    "genes = ['A6', 'A8', 'CO1', 'CO2', 'CO3', 'Cytb', 'ND1', 'ND2', 'ND3', 'ND4', 'ND4L', 'ND5', 'ND6']\n",
    "neg_genes = ['ND1', 'ND4', 'ND4L', 'ND5']\n",
    "#genes = ['A8']\n",
    "#Choose family\n",
    "TAXA = 'Orthoptera'\n",
    "PATH_TO_MIDORI_FOLDER = '/mnt/data/Documents/lab/TermitesAndCockroaches/MIDORI'\n",
    "#set to True to use only CO1 gene for subsequent codonusage calculations\n",
    "JUST_CO1 = True\n",
    "if JUST_CO1:\n",
    "    PATH_TO_GB= f'/mnt/data/Documents/lab/TermitesAndCockroaches/mtdna-mutspec-insecta/data/MIDORI/{TAXA}_CO1_genbanked'\n",
    "else:\n",
    "    PATH_TO_GB= f'/mnt/data/Documents/lab/TermitesAndCockroaches/mtdna-mutspec-insecta/data/MIDORI/{TAXA}_genbanked'"
   ]
  },
  {
   "cell_type": "code",
   "execution_count": 23,
   "metadata": {},
   "outputs": [],
   "source": [
    "def parser(taxa, gene):\n",
    "    if gene in neg_genes:\n",
    "        strand_type = -1\n",
    "    else:\n",
    "        strand_type = +1\n",
    "    all_sp_seqs = {}\n",
    "    all_sp_prot = {}\n",
    "    db = f'{PATH_TO_MIDORI_FOLDER}/MIDORI2_LONGEST_NUC_GB255_{gene}_BLAST.fasta'\n",
    "    prot_db = f'{PATH_TO_MIDORI_FOLDER}/MIDORI2_LONGEST_AA_GB255_{gene}_BLAST.fasta'\n",
    "    for entry in SeqIO.parse(db, 'fasta'):\n",
    "        if taxa in entry.id:\n",
    "            taxonomy = entry.id.split(';')\n",
    "            #Species and Taxonomy are merged for now\n",
    "            all_sp_seqs[f'{taxonomy[7]}|{\";\".join(taxonomy[1:6])}'] = entry.seq\n",
    "\n",
    "    #print(f'Number of species per {gene} - {len(all_sp_seqs)}')\n",
    "\n",
    "    for entry in SeqIO.parse(prot_db, 'fasta'):\n",
    "        if taxa in entry.id:\n",
    "            all_sp_prot[entry.id.split(';')[7]] = entry.seq\n",
    "    \n",
    "\n",
    "    for sp, seq in all_sp_seqs.items():\n",
    "        if not os.path.exists(f'{PATH_TO_GB}/{sp.split(\"|\")[0]}'):\n",
    "            os.makedirs(f'{PATH_TO_GB}/{sp.split(\"|\")[0]}')\n",
    "        seq_string = seq\n",
    "        seq_object = Seq(seq_string)\n",
    "        record = SeqRecord(seq_object,\n",
    "                   id=sp.split('|')[0], \n",
    "                   name=sp.split('|')[0])\n",
    "        feature = SeqFeature(FeatureLocation(start=0, end=len(seq), strand=strand_type), type='CDS', qualifiers={'gene' : gene, 'translation' : all_sp_prot[sp.split('|')[0]]})\n",
    "        record.features.append(feature)\n",
    "        record.annotations['organism'] = sp.split('|')[0]\n",
    "        record.annotations['taxonomy'] = sp.split('|')[1].split(';')\n",
    "        record.annotations['molecule_type'] = 'dna'\n",
    "        #print(f'{sp.split(\"|\")[0]} - {all_sp_prot[sp.split(\"|\")[0]]}')\n",
    "        #print(record)\n",
    "        with open(f'{PATH_TO_GB}/{sp.split(\"|\")[0]}/{sp.split(\"|\")[0]}_{gene}.gb', 'w') as handle:  \n",
    "            SeqIO.write(record, handle, 'genbank')\n",
    "        "
   ]
  },
  {
   "cell_type": "code",
   "execution_count": 24,
   "metadata": {},
   "outputs": [
    {
     "name": "stderr",
     "output_type": "stream",
     "text": [
      "/home/gabs/.local/lib/python3.11/site-packages/Bio/SeqIO/InsdcIO.py:727: BiopythonWarning: Increasing length of locus line to allow long name. This will result in fields that are not in usual positions.\n",
      "  warnings.warn(\n"
     ]
    }
   ],
   "source": [
    "if JUST_CO1:\n",
    "    parser(TAXA, 'CO1')\n",
    "else:\n",
    "    for gene in genes:\n",
    "        parser(TAXA, gene)"
   ]
  },
  {
   "cell_type": "code",
   "execution_count": 25,
   "metadata": {},
   "outputs": [],
   "source": [
    "if JUST_CO1 == False:\n",
    "    # code for checking if an sp has all 13 genes, then we remove all the other species\n",
    "    import shutil\n",
    "\n",
    "    all_genes = []\n",
    "    for dir_path in os.listdir(PATH_TO_GB):\n",
    "        counter = 0\n",
    "        for path in os.listdir(f'{PATH_TO_GB}/{dir_path}'):\n",
    "            if os.path.isfile(f'{PATH_TO_GB}/{dir_path}/{path}'):\n",
    "                counter += 1\n",
    "        if counter == 13:\n",
    "            all_genes.append(dir_path)\n",
    "\n",
    "    for dir_path in os.listdir(PATH_TO_GB):\n",
    "        if dir_path not in all_genes:\n",
    "            shutil.rmtree(f'{PATH_TO_GB}/{dir_path}')"
   ]
  },
  {
   "attachments": {},
   "cell_type": "markdown",
   "metadata": {},
   "source": [
    "Execute this code in {TAXA}_genbanked directory to merge all the folders (and also delete all the empty folders): \n",
    "`find . -type f -print0 | xargs -0 -I file mv --backup=numbered file .`\\\n",
    "NOTE:\\\n",
    "You might also need to run this command `find . -empty -type d -delete`, as the previous one might leave empty folders\\\n",
    "TODO:\\\n",
    "~~Automate this step~~"
   ]
  },
  {
   "cell_type": "code",
   "execution_count": 26,
   "metadata": {},
   "outputs": [
    {
     "data": {
      "text/plain": [
       "0"
      ]
     },
     "execution_count": 26,
     "metadata": {},
     "output_type": "execute_result"
    }
   ],
   "source": [
    "os.system(f'cd {PATH_TO_GB} && find . -type f -print0 | xargs -0 -I file mv --backup=numbered file .')\n",
    "os.system(f'cd {PATH_TO_GB} && find . -empty -type d -delete')"
   ]
  },
  {
   "cell_type": "code",
   "execution_count": 28,
   "metadata": {},
   "outputs": [],
   "source": [
    "if JUST_CO1:\n",
    "    PATH_TO_MERGED = f'/mnt/data/Documents/lab/TermitesAndCockroaches/mtdna-mutspec-insecta/data/MIDORI/mergedAllGenes{TAXA}_CO1.gb'\n",
    "else:\n",
    "    PATH_TO_MERGED = f'/mnt/data/Documents/lab/TermitesAndCockroaches/mtdna-mutspec-insecta/data/MIDORI/mergedAllGenes{TAXA}.gb'\n",
    "filenames = os.listdir(PATH_TO_GB)\n",
    "with open(PATH_TO_MERGED, 'w') as outfile:\n",
    "    for fname in filenames:\n",
    "        with open(f'{PATH_TO_GB}/{fname}') as infile:\n",
    "            for line in infile:\n",
    "                outfile.write(line)"
   ]
  }
 ],
 "metadata": {
  "kernelspec": {
   "display_name": "Python 3",
   "language": "python",
   "name": "python3"
  },
  "language_info": {
   "codemirror_mode": {
    "name": "ipython",
    "version": 3
   },
   "file_extension": ".py",
   "mimetype": "text/x-python",
   "name": "python",
   "nbconvert_exporter": "python",
   "pygments_lexer": "ipython3",
   "version": "3.11.2"
  },
  "orig_nbformat": 4
 },
 "nbformat": 4,
 "nbformat_minor": 2
}
