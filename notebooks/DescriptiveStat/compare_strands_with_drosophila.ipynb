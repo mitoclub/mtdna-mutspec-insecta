{
 "cells": [
  {
   "cell_type": "code",
   "execution_count": 120,
   "metadata": {},
   "outputs": [],
   "source": [
    "import pandas as pd\n",
    "from Bio import SeqIO\n",
    "from Bio.Data import CodonTable\n",
    "from Bio.Seq import Seq\n",
    "import seaborn as sns\n",
    "import matplotlib.pyplot as plt\n",
    "import re\n",
    "import numpy as np"
   ]
  },
  {
   "cell_type": "code",
   "execution_count": 121,
   "metadata": {},
   "outputs": [
    {
     "name": "stdout",
     "output_type": "stream",
     "text": [
      "Drosophila melanogaster --- [239:1263](+) --- ['ND2']\n",
      "Drosophila melanogaster --- [<1473:3009](+) --- ['COX1']\n",
      "Drosophila melanogaster --- [3082:3767](+) --- ['COX2']\n",
      "Drosophila melanogaster --- [3906:4068](+) --- ['ATP8']\n",
      "Drosophila melanogaster --- [4061:4736](+) --- ['ATP6']\n",
      "Drosophila melanogaster --- [4735:5524](+) --- ['COX3']\n",
      "Drosophila melanogaster --- [5607:5961](+) --- ['ND3']\n",
      "Drosophila melanogaster --- [6408:8125](-) --- ['ND5']\n",
      "Drosophila melanogaster --- [8206:9545](-) --- ['ND4']\n",
      "Drosophila melanogaster --- [9544:9835](-) --- ['ND4L']\n",
      "Drosophila melanogaster --- [9970:10495](+) --- ['ND6']\n",
      "Drosophila melanogaster --- [10498:11635](+) --- ['CYTB']\n",
      "Drosophila melanogaster --- [11720:12659](-) --- ['ND1']\n",
      "Periplaneta brunnea --- [223:1252](+) --- ['ND2']\n",
      "Periplaneta brunnea --- [<1458:2997](+) --- ['COX1']\n",
      "Periplaneta brunnea --- [3091:3776](+) --- ['COX2']\n",
      "Periplaneta brunnea --- [3911:4070](+) --- ['ATP8']\n",
      "Periplaneta brunnea --- [4063:4744](+) --- ['ATP6']\n",
      "Periplaneta brunnea --- [4744:5533](+) --- ['COX3']\n",
      "Periplaneta brunnea --- [5604:5958](+) --- ['ND3']\n",
      "Periplaneta brunnea --- [6363:8094](-) --- ['ND5']\n",
      "Periplaneta brunnea --- [8162:9500](-) --- ['ND4']\n",
      "Periplaneta brunnea --- [9493:9778](-) --- ['ND4L']\n",
      "Periplaneta brunnea --- [9912:10416](+) --- ['ND6']\n",
      "Periplaneta brunnea --- [10415:11549](+) --- ['CYTB']\n",
      "Periplaneta brunnea --- [11636:12584](-) --- ['ND1']\n"
     ]
    }
   ],
   "source": [
    "# important do not remove\n",
    "for entry in SeqIO.parse('/mnt/data/Documents/lab/TermitesAndCockroaches/mtdna-mutspec-insecta/data/misc_genbank/drosophila_melanogaster_mitogenome.gb', format='genbank'):\n",
    "    for i in entry.features:\n",
    "        if i.type == 'CDS':\n",
    "            print(f\"{entry.annotations['organism']} --- {i.location} --- {i.qualifiers['gene']}\")\n",
    "for entry in SeqIO.parse('/mnt/data/Documents/lab/TermitesAndCockroaches/mtdna-mutspec-insecta/data/misc_genbank/periplaneta_brunnea_mitogenome.gb', format='genbank'):\n",
    "    for i in entry.features:\n",
    "        if i.type == 'CDS':\n",
    "            print(f\"{entry.annotations['organism']} --- {i.location} --- {i.qualifiers['gene']}\")\n",
    "    break"
   ]
  },
  {
   "cell_type": "code",
   "execution_count": 122,
   "metadata": {},
   "outputs": [],
   "source": [
    "for entry in SeqIO.parse('/mnt/data/Documents/lab/TermitesAndCockroaches/mtdna-mutspec-insecta/data/misc_genbank/drosophila_melanogaster_mitogenome.gb', format='genbank'):\n",
    "    sps = []\n",
    "    strands = []\n",
    "    genes = []\n",
    "    orders = []\n",
    "    fams = []\n",
    "    for i in entry.features:\n",
    "        if i.type == 'CDS':\n",
    "            order = entry.annotations['taxonomy'][9]\n",
    "            fam = entry.annotations['taxonomy'][13]\n",
    "            sp = entry.annotations['organism']\n",
    "            if '+' in str(i.location):\n",
    "                strand = '+'\n",
    "            elif '-' in str(i.location):\n",
    "                strand = '-'\n",
    "            if 'gene' not in i.qualifiers:\n",
    "                gene_name = 'NA'\n",
    "            else:\n",
    "                gene_name = ''.join(i.qualifiers['gene']).upper()\n",
    "            sps.append(sp)\n",
    "            strands.append(strand)\n",
    "            genes.append(gene_name)\n",
    "            orders.append(order)\n",
    "            fams.append(fam)\n",
    "    reference = pd.DataFrame([sps, orders, fams, strands, genes]).T\n",
    "    reference = reference.rename(columns={0:'species', 1:'order', 2:'family', 3:'strand', 4:'gene'})\n",
    "    reference = reference.sort_values(by=['gene'])\n",
    "    reference = reference.reset_index(drop=True)"
   ]
  },
  {
   "cell_type": "code",
   "execution_count": 123,
   "metadata": {},
   "outputs": [
    {
     "data": {
      "text/html": [
       "<div>\n",
       "<style scoped>\n",
       "    .dataframe tbody tr th:only-of-type {\n",
       "        vertical-align: middle;\n",
       "    }\n",
       "\n",
       "    .dataframe tbody tr th {\n",
       "        vertical-align: top;\n",
       "    }\n",
       "\n",
       "    .dataframe thead th {\n",
       "        text-align: right;\n",
       "    }\n",
       "</style>\n",
       "<table border=\"1\" class=\"dataframe\">\n",
       "  <thead>\n",
       "    <tr style=\"text-align: right;\">\n",
       "      <th></th>\n",
       "      <th>species</th>\n",
       "      <th>order</th>\n",
       "      <th>family</th>\n",
       "      <th>strand</th>\n",
       "      <th>gene</th>\n",
       "    </tr>\n",
       "  </thead>\n",
       "  <tbody>\n",
       "    <tr>\n",
       "      <th>0</th>\n",
       "      <td>Drosophila melanogaster</td>\n",
       "      <td>Diptera</td>\n",
       "      <td>Drosophilidae</td>\n",
       "      <td>+</td>\n",
       "      <td>ATP6</td>\n",
       "    </tr>\n",
       "    <tr>\n",
       "      <th>1</th>\n",
       "      <td>Drosophila melanogaster</td>\n",
       "      <td>Diptera</td>\n",
       "      <td>Drosophilidae</td>\n",
       "      <td>+</td>\n",
       "      <td>ATP8</td>\n",
       "    </tr>\n",
       "    <tr>\n",
       "      <th>2</th>\n",
       "      <td>Drosophila melanogaster</td>\n",
       "      <td>Diptera</td>\n",
       "      <td>Drosophilidae</td>\n",
       "      <td>+</td>\n",
       "      <td>COX1</td>\n",
       "    </tr>\n",
       "    <tr>\n",
       "      <th>3</th>\n",
       "      <td>Drosophila melanogaster</td>\n",
       "      <td>Diptera</td>\n",
       "      <td>Drosophilidae</td>\n",
       "      <td>+</td>\n",
       "      <td>COX2</td>\n",
       "    </tr>\n",
       "    <tr>\n",
       "      <th>4</th>\n",
       "      <td>Drosophila melanogaster</td>\n",
       "      <td>Diptera</td>\n",
       "      <td>Drosophilidae</td>\n",
       "      <td>+</td>\n",
       "      <td>COX3</td>\n",
       "    </tr>\n",
       "    <tr>\n",
       "      <th>5</th>\n",
       "      <td>Drosophila melanogaster</td>\n",
       "      <td>Diptera</td>\n",
       "      <td>Drosophilidae</td>\n",
       "      <td>+</td>\n",
       "      <td>CYTB</td>\n",
       "    </tr>\n",
       "    <tr>\n",
       "      <th>6</th>\n",
       "      <td>Drosophila melanogaster</td>\n",
       "      <td>Diptera</td>\n",
       "      <td>Drosophilidae</td>\n",
       "      <td>-</td>\n",
       "      <td>ND1</td>\n",
       "    </tr>\n",
       "    <tr>\n",
       "      <th>7</th>\n",
       "      <td>Drosophila melanogaster</td>\n",
       "      <td>Diptera</td>\n",
       "      <td>Drosophilidae</td>\n",
       "      <td>+</td>\n",
       "      <td>ND2</td>\n",
       "    </tr>\n",
       "    <tr>\n",
       "      <th>8</th>\n",
       "      <td>Drosophila melanogaster</td>\n",
       "      <td>Diptera</td>\n",
       "      <td>Drosophilidae</td>\n",
       "      <td>+</td>\n",
       "      <td>ND3</td>\n",
       "    </tr>\n",
       "    <tr>\n",
       "      <th>9</th>\n",
       "      <td>Drosophila melanogaster</td>\n",
       "      <td>Diptera</td>\n",
       "      <td>Drosophilidae</td>\n",
       "      <td>-</td>\n",
       "      <td>ND4</td>\n",
       "    </tr>\n",
       "    <tr>\n",
       "      <th>10</th>\n",
       "      <td>Drosophila melanogaster</td>\n",
       "      <td>Diptera</td>\n",
       "      <td>Drosophilidae</td>\n",
       "      <td>-</td>\n",
       "      <td>ND4L</td>\n",
       "    </tr>\n",
       "    <tr>\n",
       "      <th>11</th>\n",
       "      <td>Drosophila melanogaster</td>\n",
       "      <td>Diptera</td>\n",
       "      <td>Drosophilidae</td>\n",
       "      <td>-</td>\n",
       "      <td>ND5</td>\n",
       "    </tr>\n",
       "    <tr>\n",
       "      <th>12</th>\n",
       "      <td>Drosophila melanogaster</td>\n",
       "      <td>Diptera</td>\n",
       "      <td>Drosophilidae</td>\n",
       "      <td>+</td>\n",
       "      <td>ND6</td>\n",
       "    </tr>\n",
       "  </tbody>\n",
       "</table>\n",
       "</div>"
      ],
      "text/plain": [
       "                    species    order         family strand  gene\n",
       "0   Drosophila melanogaster  Diptera  Drosophilidae      +  ATP6\n",
       "1   Drosophila melanogaster  Diptera  Drosophilidae      +  ATP8\n",
       "2   Drosophila melanogaster  Diptera  Drosophilidae      +  COX1\n",
       "3   Drosophila melanogaster  Diptera  Drosophilidae      +  COX2\n",
       "4   Drosophila melanogaster  Diptera  Drosophilidae      +  COX3\n",
       "5   Drosophila melanogaster  Diptera  Drosophilidae      +  CYTB\n",
       "6   Drosophila melanogaster  Diptera  Drosophilidae      -   ND1\n",
       "7   Drosophila melanogaster  Diptera  Drosophilidae      +   ND2\n",
       "8   Drosophila melanogaster  Diptera  Drosophilidae      +   ND3\n",
       "9   Drosophila melanogaster  Diptera  Drosophilidae      -   ND4\n",
       "10  Drosophila melanogaster  Diptera  Drosophilidae      -  ND4L\n",
       "11  Drosophila melanogaster  Diptera  Drosophilidae      -   ND5\n",
       "12  Drosophila melanogaster  Diptera  Drosophilidae      +   ND6"
      ]
     },
     "execution_count": 123,
     "metadata": {},
     "output_type": "execute_result"
    }
   ],
   "source": [
    "reference"
   ]
  },
  {
   "cell_type": "code",
   "execution_count": 124,
   "metadata": {},
   "outputs": [
    {
     "name": "stderr",
     "output_type": "stream",
     "text": [
      "/mnt/data/Documents/lab/TermitesAndCockroaches/mtdna-mutspec-insecta/.venv/lib/python3.11/site-packages/Bio/GenBank/Scanner.py:1800: BiopythonParserWarning: Structured comment not parsed for NC_057214. Is it malformed?\n",
      "  warnings.warn(\n",
      "/mnt/data/Documents/lab/TermitesAndCockroaches/mtdna-mutspec-insecta/.venv/lib/python3.11/site-packages/Bio/GenBank/Scanner.py:1800: BiopythonParserWarning: Structured comment not parsed for NC_057213. Is it malformed?\n",
      "  warnings.warn(\n",
      "/mnt/data/Documents/lab/TermitesAndCockroaches/mtdna-mutspec-insecta/.venv/lib/python3.11/site-packages/Bio/GenBank/Scanner.py:1800: BiopythonParserWarning: Structured comment not parsed for NC_057212. Is it malformed?\n",
      "  warnings.warn(\n",
      "/mnt/data/Documents/lab/TermitesAndCockroaches/mtdna-mutspec-insecta/.venv/lib/python3.11/site-packages/Bio/GenBank/Scanner.py:1800: BiopythonParserWarning: Structured comment not parsed for NC_057211. Is it malformed?\n",
      "  warnings.warn(\n",
      "/mnt/data/Documents/lab/TermitesAndCockroaches/mtdna-mutspec-insecta/.venv/lib/python3.11/site-packages/Bio/GenBank/Scanner.py:1800: BiopythonParserWarning: Structured comment not parsed for NC_037500. Is it malformed?\n",
      "  warnings.warn(\n",
      "/mnt/data/Documents/lab/TermitesAndCockroaches/mtdna-mutspec-insecta/.venv/lib/python3.11/site-packages/Bio/GenBank/Scanner.py:1800: BiopythonParserWarning: Structured comment not parsed for NC_037499. Is it malformed?\n",
      "  warnings.warn(\n",
      "/mnt/data/Documents/lab/TermitesAndCockroaches/mtdna-mutspec-insecta/.venv/lib/python3.11/site-packages/Bio/GenBank/Scanner.py:1800: BiopythonParserWarning: Structured comment not parsed for NC_037498. Is it malformed?\n",
      "  warnings.warn(\n"
     ]
    }
   ],
   "source": [
    "different = pd.DataFrame()\n",
    "similar = pd.DataFrame()\n",
    "total_num = 0\n",
    "for entry in SeqIO.parse('/mnt/data/Documents/lab/TermitesAndCockroaches/mtdna-mutspec-insecta/data/misc_genbank/all_insects.gb', format='genbank'):\n",
    "    sps = []\n",
    "    strands = []\n",
    "    genes = []\n",
    "    taxonomy = []\n",
    "    for i in entry.features:\n",
    "        if i.type == 'CDS':\n",
    "            tax = str(entry.annotations['taxonomy'][5:])\n",
    "            sp = entry.annotations['organism']\n",
    "            if '+' in str(i.location):\n",
    "                strand = '+'\n",
    "            elif '-' in str(i.location):\n",
    "                strand = '-'\n",
    "            if 'gene' not in i.qualifiers:\n",
    "                gene_name = np.nan\n",
    "            else:\n",
    "                gene_name = ''.join(i.qualifiers['gene']).upper()\n",
    "\n",
    "            #HAVE THEY FUCKING HEARD ABOUT STANDARTS?!\n",
    "            if gene_name == 'COB':\n",
    "                gene_name = 'CYTB'\n",
    "            elif gene_name == 'COI' or gene_name == 'CO1' or gene_name == 'COXI':\n",
    "                gene_name = 'COX1'\n",
    "            elif gene_name == 'COII' or gene_name == 'CO2' or gene_name == 'COXII':\n",
    "                gene_name = 'COX2'\n",
    "            elif gene_name == 'COIII' or gene_name == 'CO3' or gene_name == 'COXIII':\n",
    "                gene_name = 'COX3'\n",
    "            elif gene_name == 'NAD1':\n",
    "                gene_name = 'ND1'\n",
    "            elif gene_name == 'NAD2':\n",
    "                gene_name = 'ND2'\n",
    "            elif gene_name == 'NAD3':\n",
    "                gene_name = 'ND3'\n",
    "            elif gene_name == 'NAD4':\n",
    "                gene_name = 'ND4'\n",
    "            elif gene_name == 'NAD4L':\n",
    "                gene_name = 'ND4L'\n",
    "            elif gene_name == 'NAD5':\n",
    "                gene_name = 'ND5'\n",
    "            elif gene_name == 'NAD6':\n",
    "                gene_name = 'ND6'\n",
    "\n",
    "            sps.append(sp)\n",
    "            strands.append(strand)\n",
    "            genes.append(gene_name)\n",
    "            taxonomy.append(tax)\n",
    "    df = pd.DataFrame([sps, taxonomy, strands, genes]).T\n",
    "    df = df.rename(columns={0:'species', 1:'taxonomy', 2:'strand', 3:'gene'})\n",
    "    df = df.sort_values(by=['gene'])\n",
    "    df = df.reset_index(drop=True)\n",
    "    df = df.dropna()\n",
    "    if len(df) != 13: #check if species doesn't have all genes, in this case, drop 'em\n",
    "        continue\n",
    "    \n",
    "    total_num += 1\n",
    "\n",
    "    check = df[['strand', 'gene']] == reference[['strand', 'gene']] #outputs df with 2 cols of True/False values\n",
    "\n",
    "    if check.sum().sum() != 26: #sum of all True vals is 26, if it's not equal 26, then we have False somewhere\n",
    "        different = pd.concat([different, df])\n",
    "    else:\n",
    "        similar = pd.concat([similar, df])\n",
    "different = different.sort_values(by=['taxonomy', 'species', 'gene'])\n",
    "different.to_csv('/mnt/data/Documents/lab/TermitesAndCockroaches/mtdna-mutspec-insecta/data/DescriptiveStat/insectsGB_with_diff_strand_loc.tsv', sep='\\t')"
   ]
  },
  {
   "cell_type": "code",
   "execution_count": 125,
   "metadata": {},
   "outputs": [
    {
     "data": {
      "text/plain": [
       "200"
      ]
     },
     "execution_count": 125,
     "metadata": {},
     "output_type": "execute_result"
    }
   ],
   "source": [
    "len(different['species'].unique())"
   ]
  },
  {
   "cell_type": "code",
   "execution_count": 126,
   "metadata": {},
   "outputs": [
    {
     "data": {
      "text/plain": [
       "4661"
      ]
     },
     "execution_count": 126,
     "metadata": {},
     "output_type": "execute_result"
    }
   ],
   "source": [
    "len(similar['species'].unique())"
   ]
  },
  {
   "cell_type": "code",
   "execution_count": 127,
   "metadata": {},
   "outputs": [
    {
     "data": {
      "text/plain": [
       "4861"
      ]
     },
     "execution_count": 127,
     "metadata": {},
     "output_type": "execute_result"
    }
   ],
   "source": [
    "total_num"
   ]
  }
 ],
 "metadata": {
  "kernelspec": {
   "display_name": "Python 3",
   "language": "python",
   "name": "python3"
  },
  "language_info": {
   "codemirror_mode": {
    "name": "ipython",
    "version": 3
   },
   "file_extension": ".py",
   "mimetype": "text/x-python",
   "name": "python",
   "nbconvert_exporter": "python",
   "pygments_lexer": "ipython3",
   "version": "3.11.2"
  },
  "orig_nbformat": 4
 },
 "nbformat": 4,
 "nbformat_minor": 2
}
