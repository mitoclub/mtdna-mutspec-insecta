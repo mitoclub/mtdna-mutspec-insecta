{
 "cells": [
  {
   "cell_type": "code",
   "execution_count": 1,
   "metadata": {},
   "outputs": [],
   "source": [
    "import glob, os, sys, re, random\n",
    "from collections import defaultdict, Counter\n",
    "\n",
    "import numpy as np\n",
    "import pandas as pd\n",
    "import matplotlib.pyplot as plt\n",
    "import seaborn as sns\n",
    "import ete3\n",
    "from ete3 import PhyloTree\n",
    "from Bio import SeqIO\n",
    "import tqdm\n",
    "\n",
    "PATH_TO_OUTPUT = '/home/gabs/Documents/lab/TermitesAndCockroaches/MutSpec-Redone/interim/ForDolphin/TermAndCock/midori_seqs_and_outgrp'"
   ]
  },
  {
   "cell_type": "code",
   "execution_count": 2,
   "metadata": {},
   "outputs": [],
   "source": [
    "def collect_seqs(pattern: str, label: str, genes: list, sp=False):\n",
    "    directory = \"../../../MIDORI/\"\n",
    "    file = \"MIDORI2_{}_NUC_SP_GB253_{}_BLAST.fasta\" if sp else \"MIDORI2_{}_NUC_GB253_{}_BLAST.fasta\"\n",
    "    path_to_fasta = directory + file\n",
    "    seqs = defaultdict(list)\n",
    "    for gene in tqdm.tqdm(genes):\n",
    "        inp = path_to_fasta.format(label, gene)\n",
    "        for rec in SeqIO.parse(inp, \"fasta\"):\n",
    "            header = rec.description\n",
    "            \n",
    "            if pattern not in header:\n",
    "                continue\n",
    "\n",
    "            raw_acc, taxa = header.split(\"###\")\n",
    "            acc, place = re.match(\"(\\w+\\.\\d)\\.(.+)\", raw_acc).groups()\n",
    "            taxa = taxa.removeprefix(\"root_1;Eukaryota_2759;\")\n",
    "            species = \" \".join(taxa.split(\";\")[-1].split(\"_\")[:-1])\n",
    "            rec.id = acc\n",
    "            rec.description = f\"{species} {place} ###{taxa}\"\n",
    "            seqs[gene + \"__\" + species.replace(\" \", \"_\")].append(rec)\n",
    "    return seqs\n",
    "\n",
    "\n",
    "def filter_seqs(recs: list, var_gene_len=0.2, Nshare=0.2):\n",
    "    assert isinstance(recs, list)\n",
    "    seq_len_mean = np.median([len(x) for x in recs])\n",
    "    min_seq_len = seq_len_mean * (1 - var_gene_len)\n",
    "    max_seq_len = seq_len_mean * (1 + var_gene_len)\n",
    "\n",
    "    recs_filtered = []\n",
    "    for rec in recs:\n",
    "        acgt_share = sum(rec.seq.count(x) for x in \"ACGT\") / len(rec)\n",
    "        if min_seq_len < len(rec) < max_seq_len and 1 - acgt_share < Nshare:\n",
    "            recs_filtered.append(rec)\n",
    "\n",
    "    return recs_filtered\n",
    "\n",
    "\n",
    "def filter_seqs_dict(seqs, nseqs_min=10, var_gene_len=0.2, Nshare=0.2):\n",
    "    assert isinstance(seqs, dict)\n",
    "    seqs_filtered = dict()\n",
    "    for gene_species, recs in seqs.items():\n",
    "        if len(recs) < nseqs_min:\n",
    "            continue\n",
    "\n",
    "        recs_filtered = filter_seqs(recs, var_gene_len, Nshare)\n",
    "        if len(recs_filtered) >= nseqs_min:\n",
    "            seqs_filtered[gene_species] = recs_filtered\n",
    "    \n",
    "    return seqs_filtered"
   ]
  },
  {
   "cell_type": "markdown",
   "metadata": {},
   "source": [
    "## *Arthropoda*"
   ]
  },
  {
   "cell_type": "code",
   "execution_count": 3,
   "metadata": {},
   "outputs": [
    {
     "name": "stderr",
     "output_type": "stream",
     "text": [
      "100%|██████████| 1/1 [00:10<00:00, 10.37s/it]\n"
     ]
    },
    {
     "data": {
      "text/plain": [
       "120733"
      ]
     },
     "execution_count": 3,
     "metadata": {},
     "output_type": "execute_result"
    }
   ],
   "source": [
    "genes = ['CO1']\n",
    "seqs_arth = collect_seqs('Insecta', \"UNIQ\", genes)\n",
    "len(seqs_arth)"
   ]
  },
  {
   "cell_type": "code",
   "execution_count": 4,
   "metadata": {},
   "outputs": [],
   "source": [
    "seqs_arth_filtered = filter_seqs_dict(seqs_arth)\n"
   ]
  },
  {
   "cell_type": "code",
   "execution_count": 39,
   "metadata": {},
   "outputs": [],
   "source": [
    "def extract_sp_data(db_records):\n",
    "    data = {} # all seqs and ids, family and genus for single species\n",
    "    for sp in db_records:\n",
    "        fams = []\n",
    "        genuses = []\n",
    "        seqs = []\n",
    "        sps = []\n",
    "        ids = []\n",
    "        taxonomy = db_records[sp][0].description.split(';')\n",
    "        fams.append(taxonomy[3])\n",
    "        genuses.append(taxonomy[4])\n",
    "        sps.append(taxonomy[5])\n",
    "        for rec in range(len(db_records[sp])):\n",
    "            id = db_records[sp][rec].id\n",
    "            seq = db_records[sp][rec].seq\n",
    "            seqs.append(seq)\n",
    "            ids.append(id)\n",
    "        data[sp] = [ids, sps, fams, genuses, seqs, db_records[sp][0].description]\n",
    "    return(data)\n",
    "\n",
    "def get_sp_and_outgrp(sp_data, db_records, path):\n",
    "    #fams = []\n",
    "    genuses = []\n",
    "    ids = []\n",
    "\n",
    "    for sp, stats in sp_data.items():\n",
    "        #fams.append(\"\".join(stats[2]))\n",
    "        genuses.append(\"\".join(stats[3]))\n",
    "        ids.append(sp)\n",
    "\n",
    "        with open(f'{path}/{sp}.fa', '+a') as fout:\n",
    "            for i in range(len(stats[0])):\n",
    "                fout.write(f'>{stats[0][i]} {stats[5]}\\n{stats[4][i]}\\n')\n",
    "\n",
    "\n",
    "    genuses_stats = Counter(genuses)\n",
    "    #fams_stats = Counter(fams)\n",
    "    \n",
    "    gene = []\n",
    "    sp_ids = []\n",
    "    outgrp_ids = []\n",
    "    nseqs = []\n",
    "\n",
    "    for i in range(len(ids)):\n",
    "        #if genuses_stats[genuses[i]] == 1 and fams_stats[fams[i]] == 1:\n",
    "        #    os.remove(f'{path}/{ids[i]}.fa')\n",
    "        #elif genuses_stats[genuses[i]] == 1:\n",
    "        #    for id, record in db_records.items():\n",
    "        #        if fams[i] in record[0].name and id != ids[i]:\n",
    "        #            with open(f'{path}/{ids[i]}.fa', 'a') as fout:\n",
    "        #                fout.write(f'>OUTGRP\\n{sp_data[id][4][0]} \\n')\n",
    "        #            break\n",
    "        if genuses_stats[genuses[i]] == 1:\n",
    "            os.remove(f'{path}/{ids[i]}.fa')\n",
    "        elif genuses_stats[genuses[i]] > 1:\n",
    "            for id, record in db_records.items():\n",
    "                if genuses[i] in record[0].name and id != ids[i]:\n",
    "                    sp_ids.append(ids[i].split(\"__\")[1])\n",
    "                    outgrp_ids.append(id.split(\"__\")[1])\n",
    "                    gene.append(id.split(\"__\")[0])\n",
    "                    nseqs.append(len(sp_data[ids[i]][4]))\n",
    "                    with open(f'{path}/{ids[i]}.fa', '+a') as fout:\n",
    "                        fout.write(f'>OUTGRP\\n{sp_data[id][4][0]} \\n')\n",
    "                    break\n",
    "    df = pd.DataFrame(zip(gene, sp_ids, nseqs, outgrp_ids), columns=['gene', 'species', 'nseqs', 'outgroup'])\n",
    "    df.to_csv(f'{path}/1METADATA.csv')"
   ]
  },
  {
   "cell_type": "code",
   "execution_count": 40,
   "metadata": {},
   "outputs": [],
   "source": [
    "data = extract_sp_data(seqs_arth_filtered)\n",
    "get_sp_and_outgrp(data, seqs_arth_filtered, PATH_TO_OUTPUT)"
   ]
  },
  {
   "attachments": {},
   "cell_type": "markdown",
   "metadata": {},
   "source": [
    "## TESTING GROUNDS"
   ]
  },
  {
   "cell_type": "code",
   "execution_count": 35,
   "metadata": {},
   "outputs": [],
   "source": [
    "test = {}\n",
    "test['CO1__Heterolepisma_sclerophylla'] = seqs_arth_filtered['CO1__Heterolepisma_sclerophylla']\n",
    "test['CO1__Lepisma_saccharina'] = seqs_arth_filtered['CO1__Lepisma_saccharina']\n",
    "test['CO1__Zygaena_ephialtes'] = seqs_arth_filtered['CO1__Zygaena_ephialtes']\n",
    "test['CO1__Zygaena_carniolica'] = seqs_arth_filtered['CO1__Zygaena_carniolica']\n",
    "test['CO1__Zygaena_fausta'] = seqs_arth_filtered['CO1__Zygaena_fausta']\n",
    "fams = []\n",
    "genuses = []\n",
    "ids = []\n",
    "\n",
    "gene = []\n",
    "sp_ids = []\n",
    "outgrp_ids = []\n",
    "nseqs = []\n",
    "\n",
    "sp_data = extract_sp_data(test)\n",
    "for sp, stats in sp_data.items():\n",
    "    fams.append(\"\".join(stats[2]))\n",
    "    genuses.append(\"\".join(stats[3]))\n",
    "    ids.append(sp)\n",
    "genuses_stats = Counter(genuses)\n",
    "fams_stats = Counter(fams)\n",
    "for i in range(len(ids)):\n",
    "    if genuses_stats[genuses[i]] == 1:\n",
    "        continue\n",
    "    elif genuses_stats[genuses[i]] > 1:\n",
    "        for id, record in test.items():\n",
    "            if genuses[i] in record[0].name and id != ids[i]:\n",
    "                sp_ids.append(ids[i].split(\"__\")[1])\n",
    "                outgrp_ids.append(id.split(\"__\")[1])\n",
    "                gene.append(id.split(\"__\")[0])\n",
    "                nseqs.append(len(sp_data[ids[i]][4]))\n",
    "                break\n",
    "df = pd.DataFrame(zip(gene, sp_ids, nseqs, outgrp_ids), columns=['gene', 'species', 'nseqs', 'outgroup'])\n",
    "df.to_csv(f'{path}/1METADATA.csv')"
   ]
  },
  {
   "cell_type": "code",
   "execution_count": 37,
   "metadata": {},
   "outputs": [
    {
     "name": "stdout",
     "output_type": "stream",
     "text": [
      "16\n"
     ]
    }
   ],
   "source": []
  }
 ],
 "metadata": {
  "kernelspec": {
   "display_name": "env_bio",
   "language": "python",
   "name": "python3"
  },
  "language_info": {
   "codemirror_mode": {
    "name": "ipython",
    "version": 3
   },
   "file_extension": ".py",
   "mimetype": "text/x-python",
   "name": "python",
   "nbconvert_exporter": "python",
   "pygments_lexer": "ipython3",
   "version": "3.11.3"
  },
  "orig_nbformat": 4,
  "vscode": {
   "interpreter": {
    "hash": "c737589ac25c2b5207a58295544dae93bde342e9f173b68ed1d9625ade55517f"
   }
  }
 },
 "nbformat": 4,
 "nbformat_minor": 2
}
